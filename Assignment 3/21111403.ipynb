{
 "cells": [
  {
   "cell_type": "markdown",
   "id": "8975ba91",
   "metadata": {},
   "source": [
    "# Question 1"
   ]
  },
  {
   "cell_type": "markdown",
   "id": "3e8ea5d0",
   "metadata": {},
   "source": [
    "### Importing the libraries"
   ]
  },
  {
   "cell_type": "code",
   "execution_count": 1,
   "id": "a97c3c0e",
   "metadata": {},
   "outputs": [],
   "source": [
    "import numpy as np\n",
    "import pandas as pd\n",
    "from matplotlib import pyplot as plt"
   ]
  },
  {
   "cell_type": "markdown",
   "id": "9a593e81",
   "metadata": {},
   "source": [
    "### 1.a"
   ]
  },
  {
   "cell_type": "markdown",
   "id": "8f0109af",
   "metadata": {},
   "source": [
    "### Perceptron Algorithm\n",
    "\n",
    "**Arguments**\n",
    "1. X : Feature Matrix\n",
    "2. Y : Label Vector\n",
    "3. t : no of iteration\n",
    "4. nt : learning rate (by default set to 1)\n",
    "5. const : for checking the convergence\n",
    "\n",
    "**Return**\n",
    "1. w : Weight Matix\n",
    "\n",
    "**Algorithm**\n",
    "1. Converting X and Y to numpy array\n",
    "2. Extracting total number of sample and feature from data\n",
    "3. Initializing the weight matrix w to very small values\n",
    "5. Increasing the count by 1 \n",
    "4. Looping for t times<br>\n",
    "    a. selecting a sample from X randomly<br>\n",
    "    b. checking for wrong prediction ie., $y_nw^Tx_n < 0$<br>\n",
    "        i. if wrong prediction update the weight matrix $w = w + n_ty_nx_n$ \n",
    "        ii. count = 0 not converged yet\n",
    "6. If count = const<br>\n",
    "     break means converged\n",
    "5. return w\n",
    "\n",
    "**Convergence Criteria**\n",
    "1. If weight is not updated for fixed number(default 60) of times we are declaring this as model is converged.\n",
    "2. Assuming the model will be converged in t iteration"
   ]
  },
  {
   "cell_type": "code",
   "execution_count": 191,
   "id": "f6f3a82d",
   "metadata": {},
   "outputs": [],
   "source": [
    "def perception(X, Y, t, nt = 1, const = 60):\n",
    "    \n",
    "    X = np.array(X)\n",
    "    Y = np.array(Y)\n",
    "    \n",
    "    num_sample, num_feature = X.shape\n",
    "    \n",
    "    #Initializing weight vector to very small number\n",
    "    w = np.random.randn(1, num_feature) / 1e6 \n",
    "    \n",
    "    count = 0\n",
    "    \n",
    "    for _ in range(t): \n",
    "        \n",
    "        #randomly sample one data point from the dataset\n",
    "        idx = np.random.randint(0, num_sample, 1)\n",
    "        \n",
    "        count = count + 1\n",
    "        \n",
    "        if Y[idx] * np.sum(w * X[idx]) < 0:\n",
    "            \n",
    "            #Updating weight\n",
    "            w = w + nt * (Y[idx] * X[idx])\n",
    "            \n",
    "            count = 0\n",
    "            \n",
    "        #Checking for convergence\n",
    "        if count == const:\n",
    "            break\n",
    "            \n",
    "    return w"
   ]
  },
  {
   "cell_type": "markdown",
   "id": "3578d904",
   "metadata": {},
   "source": [
    "### 1.b"
   ]
  },
  {
   "cell_type": "markdown",
   "id": "e3495df3",
   "metadata": {},
   "source": [
    "### predict Function\n",
    "\n",
    "**Argument**\n",
    "1. x : test sample(s)\n",
    "2. w: weight matrix\n",
    "\n",
    "**Retuen**\n",
    "1. Final prediction\n",
    "\n",
    "**Algorithm**\n",
    "1. Make prediction using formula $y_n = sign(w^Tx_n)$"
   ]
  },
  {
   "cell_type": "code",
   "execution_count": 192,
   "id": "2855167c",
   "metadata": {},
   "outputs": [],
   "source": [
    "def predict(x, w):\n",
    "    return np.sign(np.sum(np.array(x) * w, axis = 1))"
   ]
  },
  {
   "cell_type": "markdown",
   "id": "c6e0fb8d",
   "metadata": {},
   "source": [
    "### Importing the \"data_banknote_authentication\" datafame and Preprocessing\n",
    "\n",
    "1. Defineing the name of columns\n",
    "2. Replacing the class label from (0, 1) to (-1, 1)\n",
    "3. Adding a new column for bias with default value of 1"
   ]
  },
  {
   "cell_type": "code",
   "execution_count": 193,
   "id": "85aa6a5d",
   "metadata": {},
   "outputs": [
    {
     "data": {
      "text/html": [
       "<div>\n",
       "<style scoped>\n",
       "    .dataframe tbody tr th:only-of-type {\n",
       "        vertical-align: middle;\n",
       "    }\n",
       "\n",
       "    .dataframe tbody tr th {\n",
       "        vertical-align: top;\n",
       "    }\n",
       "\n",
       "    .dataframe thead th {\n",
       "        text-align: right;\n",
       "    }\n",
       "</style>\n",
       "<table border=\"1\" class=\"dataframe\">\n",
       "  <thead>\n",
       "    <tr style=\"text-align: right;\">\n",
       "      <th></th>\n",
       "      <th>variance</th>\n",
       "      <th>skewness</th>\n",
       "      <th>curtosis</th>\n",
       "      <th>entropy</th>\n",
       "      <th>class</th>\n",
       "      <th>bias</th>\n",
       "    </tr>\n",
       "  </thead>\n",
       "  <tbody>\n",
       "    <tr>\n",
       "      <th>0</th>\n",
       "      <td>3.62160</td>\n",
       "      <td>8.6661</td>\n",
       "      <td>-2.8073</td>\n",
       "      <td>-0.44699</td>\n",
       "      <td>-1</td>\n",
       "      <td>1</td>\n",
       "    </tr>\n",
       "    <tr>\n",
       "      <th>1</th>\n",
       "      <td>4.54590</td>\n",
       "      <td>8.1674</td>\n",
       "      <td>-2.4586</td>\n",
       "      <td>-1.46210</td>\n",
       "      <td>-1</td>\n",
       "      <td>1</td>\n",
       "    </tr>\n",
       "    <tr>\n",
       "      <th>2</th>\n",
       "      <td>3.86600</td>\n",
       "      <td>-2.6383</td>\n",
       "      <td>1.9242</td>\n",
       "      <td>0.10645</td>\n",
       "      <td>-1</td>\n",
       "      <td>1</td>\n",
       "    </tr>\n",
       "    <tr>\n",
       "      <th>3</th>\n",
       "      <td>3.45660</td>\n",
       "      <td>9.5228</td>\n",
       "      <td>-4.0112</td>\n",
       "      <td>-3.59440</td>\n",
       "      <td>-1</td>\n",
       "      <td>1</td>\n",
       "    </tr>\n",
       "    <tr>\n",
       "      <th>4</th>\n",
       "      <td>0.32924</td>\n",
       "      <td>-4.4552</td>\n",
       "      <td>4.5718</td>\n",
       "      <td>-0.98880</td>\n",
       "      <td>-1</td>\n",
       "      <td>1</td>\n",
       "    </tr>\n",
       "  </tbody>\n",
       "</table>\n",
       "</div>"
      ],
      "text/plain": [
       "   variance  skewness  curtosis  entropy  class  bias\n",
       "0   3.62160    8.6661   -2.8073 -0.44699     -1     1\n",
       "1   4.54590    8.1674   -2.4586 -1.46210     -1     1\n",
       "2   3.86600   -2.6383    1.9242  0.10645     -1     1\n",
       "3   3.45660    9.5228   -4.0112 -3.59440     -1     1\n",
       "4   0.32924   -4.4552    4.5718 -0.98880     -1     1"
      ]
     },
     "execution_count": 193,
     "metadata": {},
     "output_type": "execute_result"
    }
   ],
   "source": [
    "df = pd.read_csv(\"data_banknote_authentication.txt\", header = None)\n",
    "df.columns = [\"variance\", \"skewness\", \"curtosis\", \"entropy\", \"class\"]\n",
    "df[\"class\"] = df[\"class\"].replace(0, -1)\n",
    "df[\"bias\"] = 1\n",
    "df.head()"
   ]
  },
  {
   "cell_type": "code",
   "execution_count": 194,
   "id": "c8dea793",
   "metadata": {},
   "outputs": [
    {
     "data": {
      "text/plain": [
       "(1372, 6)"
      ]
     },
     "execution_count": 194,
     "metadata": {},
     "output_type": "execute_result"
    }
   ],
   "source": [
    "df.shape"
   ]
  },
  {
   "cell_type": "markdown",
   "id": "d76747e6",
   "metadata": {},
   "source": [
    "##### Droping Duplicate Rows from the dataset"
   ]
  },
  {
   "cell_type": "code",
   "execution_count": 195,
   "id": "a5bcc094",
   "metadata": {},
   "outputs": [
    {
     "data": {
      "text/plain": [
       "(1348, 6)"
      ]
     },
     "execution_count": 195,
     "metadata": {},
     "output_type": "execute_result"
    }
   ],
   "source": [
    "df = df.drop_duplicates()\n",
    "df.shape"
   ]
  },
  {
   "cell_type": "markdown",
   "id": "abbf2d77",
   "metadata": {},
   "source": [
    "##### Handling the Outliers "
   ]
  },
  {
   "cell_type": "code",
   "execution_count": 196,
   "id": "6e63fe59",
   "metadata": {},
   "outputs": [
    {
     "data": {
      "image/png": "[encoded data removed]",
      "text/plain": [
       "<Figure size 432x288 with 1 Axes>"
      ]
     },
     "metadata": {
      "needs_background": "light"
     },
     "output_type": "display_data"
    }
   ],
   "source": [
    "plt.boxplot([df.variance, df.skewness, df.curtosis, df.entropy])\n",
    "plt.show()"
   ]
  },
  {
   "cell_type": "markdown",
   "id": "47d03e7b",
   "metadata": {},
   "source": [
    "from the above boxplot it is clearly seen that curtosis and entropy has outliers so changing it value to their extreme."
   ]
  },
  {
   "cell_type": "markdown",
   "id": "ace5f06e",
   "metadata": {},
   "source": [
    "Hnadling outliers for curtosis and changing it upper extreme"
   ]
  },
  {
   "cell_type": "code",
   "execution_count": 197,
   "id": "11c2cb1c",
   "metadata": {},
   "outputs": [],
   "source": [
    "Q1 = df['curtosis'].quantile(0.25)\n",
    "Q3 = df['curtosis'].quantile(0.75)\n",
    "IQR = Q3 - Q1\n",
    "lower_whisker = Q3 - 1.5 * IQR\n",
    "upper_whisker = Q3 + 1.5 * IQR\n",
    "df.loc[df['curtosis'] > upper_whisker, 'curtosis'] = upper_whisker"
   ]
  },
  {
   "cell_type": "markdown",
   "id": "bef62bdb",
   "metadata": {},
   "source": [
    "Hnadling outliers for entropy and changing it lower extreme"
   ]
  },
  {
   "cell_type": "code",
   "execution_count": 198,
   "id": "92594a80",
   "metadata": {},
   "outputs": [],
   "source": [
    "Q1 = df['entropy'].quantile(0.25)\n",
    "Q3 = df['entropy'].quantile(0.75)\n",
    "IQR = Q3 - Q1\n",
    "lower_whisker = Q3 - 1.5 * IQR\n",
    "upper_whisker = Q3 + 1.5 * IQR\n",
    "df.loc[df['entropy'] < lower_whisker, 'entropy'] = lower_whisker"
   ]
  },
  {
   "cell_type": "markdown",
   "id": "3f23374d",
   "metadata": {},
   "source": [
    "Converting the Dataframe to Feature Matrix(X) and Label Vector(Y)"
   ]
  },
  {
   "cell_type": "code",
   "execution_count": 199,
   "id": "5ad5ca78",
   "metadata": {},
   "outputs": [],
   "source": [
    "X = df.drop(\"class\", axis=1)\n",
    "Y = df[\"class\"]"
   ]
  },
  {
   "cell_type": "markdown",
   "id": "3f1db85c",
   "metadata": {},
   "source": [
    "### Spliting the dataset"
   ]
  },
  {
   "cell_type": "code",
   "execution_count": 200,
   "id": "43dfdf55",
   "metadata": {},
   "outputs": [],
   "source": [
    "X_train = X.sample(n = 1100)\n",
    "Y_train = Y[X_train.index]\n",
    "X_test = X.drop(X_train.index)\n",
    "Y_test = Y[X_test.index]"
   ]
  },
  {
   "cell_type": "markdown",
   "id": "bf1fa4a2",
   "metadata": {},
   "source": [
    "Printing the size of all splitted set"
   ]
  },
  {
   "cell_type": "code",
   "execution_count": 201,
   "id": "3efa1ca8",
   "metadata": {},
   "outputs": [
    {
     "name": "stdout",
     "output_type": "stream",
     "text": [
      "Training set shape  -  X_train  :  (1100, 5) , Y_train  :   (1100,)\n",
      "Test set shape  -  X_test  :  (248, 5) , Y_test  :   (248,)\n"
     ]
    }
   ],
   "source": [
    "print(\"Training set shape  -  X_train  : \", X_train.shape, \", Y_train  :  \", Y_train.shape)\n",
    "print(\"Test set shape  -  X_test  : \", X_test.shape, \", Y_test  :  \", Y_test.shape)"
   ]
  },
  {
   "cell_type": "markdown",
   "id": "7039812d",
   "metadata": {},
   "source": [
    "### 1.c"
   ]
  },
  {
   "cell_type": "markdown",
   "id": "b7aa1764",
   "metadata": {},
   "source": [
    "### 10 Fold Cross Validation\n",
    "\n",
    "Finding the weight for which the model produces least error on Validaiton Set.<br>\n",
    "**Validation Parameter = const (Convergence constant)**\n",
    "\n",
    "1. Testing for each value of const in range(50, 500, 50)\n",
    "    1. Looping over 10 times for cross validation  \n",
    "        1. Creating Actual_Train and Validation dataset from training dataset\n",
    "        2. Finding the weight vector using Actual_Train Dataset\n",
    "        3. Predicting the classes of Validation_train using trained weight\n",
    "        4. Finding the total error made on Validation Dataset\n",
    "        5. Storing the weight matrix and error made on it.\n",
    "    5. Calculating the average error made on current value of const\n",
    "    6. Updating the weight vector if it performs better then previous weight vector\n",
    "6. Printing the Least Averaged Cross Validation Error"
   ]
  },
  {
   "cell_type": "code",
   "execution_count": 255,
   "id": "13b47656",
   "metadata": {},
   "outputs": [
    {
     "name": "stdout",
     "output_type": "stream",
     "text": [
      "Least Averaged Cross Validation Error :  0.8\n"
     ]
    }
   ],
   "source": [
    "for const in range(50, 500, 50):\n",
    "    \n",
    "    erorr = 0\n",
    "    least_error = 1e6\n",
    "    \n",
    "    weight_matrix = []\n",
    "    error_matrix = []\n",
    "\n",
    "    for k in range(10):\n",
    "        #Creating Actual_Train and Validation dataset from training dataset\n",
    "        X_validation = X_train.iloc[k * 110 : (k+1)*110 -1]\n",
    "        Y_validation = Y_train.iloc[k * 110 : (k+1)*110 -1]\n",
    "        X_actual_train = X_train.drop(X_validation.index)\n",
    "        Y_actual_train = Y_train.drop(Y_validation.index)\n",
    "        \n",
    "        #Finding the weight vector using Actual_Train Dataset\n",
    "        w = perception(X_actual_train, Y_actual_train, 10000, const = const)\n",
    "        \n",
    "        #Predicting the classes of Validation_train using trained weight\n",
    "        pred = predict(X_validation, w)\n",
    "        \n",
    "        #Finding the total error made on Validation Dataset\n",
    "        curr_error = np.sum(Y_validation != pred)\n",
    "        \n",
    "        #Storing the weight matrix and error made on it.\n",
    "        weight_matrix.append(w)\n",
    "        error_matrix.append(curr_error)\n",
    "        \n",
    "    #Calculating the average error made on current value of const\n",
    "    error = np.mean(error_matrix)\n",
    "    \n",
    "    #Updating the weight vector if it performs better then previous weight vector\n",
    "    if least_error > error:\n",
    "        least_error = error\n",
    "        best_w = weight_matrix[np.argmin(error_matrix)]\n",
    "    \n",
    "print(\"Least Averaged Cross Validation Error : \", least_error)"
   ]
  },
  {
   "cell_type": "markdown",
   "id": "f91f4c95",
   "metadata": {},
   "source": [
    "### 1.d"
   ]
  },
  {
   "cell_type": "markdown",
   "id": "53c8d84e",
   "metadata": {},
   "source": [
    "Predicting the class of test set using best weight come from 10 Cross Validaiton"
   ]
  },
  {
   "cell_type": "code",
   "execution_count": 256,
   "id": "a0a232e4",
   "metadata": {},
   "outputs": [],
   "source": [
    "pred = predict(X_test, best_w)"
   ]
  },
  {
   "cell_type": "markdown",
   "id": "31edd3b4",
   "metadata": {},
   "source": [
    "Reporing the final error using best model on test set"
   ]
  },
  {
   "cell_type": "code",
   "execution_count": 257,
   "id": "7a1fe475",
   "metadata": {},
   "outputs": [
    {
     "data": {
      "text/plain": [
       "1"
      ]
     },
     "execution_count": 257,
     "metadata": {},
     "output_type": "execute_result"
    }
   ],
   "source": [
    "np.sum(pred!=Y_test)"
   ]
  },
  {
   "cell_type": "markdown",
   "id": "935d4b5f",
   "metadata": {},
   "source": [
    "Initializing the values of True positive(TP), True Negative(TN), False Positive(FP), False Negative(FN) to 0\n",
    "1. True Positive (TP) : if actual and predicted values both are true\n",
    "2. True Negative (TN) : if actual anf predicted values both are false\n",
    "3. False Negative (FN) : if actual value is true but predicted value is false\n",
    "4. False Positive (FP) : if actual value is negative but predicted value is true"
   ]
  },
  {
   "cell_type": "code",
   "execution_count": 258,
   "id": "bdc8401c",
   "metadata": {},
   "outputs": [],
   "source": [
    "TP = 0\n",
    "TN = 0\n",
    "FP = 0\n",
    "FN = 0"
   ]
  },
  {
   "cell_type": "markdown",
   "id": "108ae2ee",
   "metadata": {},
   "source": [
    "Calculating the values of confusion matrix"
   ]
  },
  {
   "cell_type": "code",
   "execution_count": 259,
   "id": "00530b4e",
   "metadata": {},
   "outputs": [],
   "source": [
    "for i in range(len(pred)):\n",
    "    if pred[i] == Y_test.iloc[i] == 1:\n",
    "        TP = TP + 1\n",
    "    elif pred[i] == Y_test.iloc[i] == -1:\n",
    "        TN = TN + 1\n",
    "    elif (pred[i] == 1) and (Y_test.iloc[i] == -1):\n",
    "        FP = FP + 1\n",
    "    else:\n",
    "        FN = FN + 1"
   ]
  },
  {
   "cell_type": "code",
   "execution_count": 260,
   "id": "7a78a6a1",
   "metadata": {},
   "outputs": [
    {
     "name": "stdout",
     "output_type": "stream",
     "text": [
      "103 144 0 1\n"
     ]
    }
   ],
   "source": [
    "print(TP, TN, FP, FN)"
   ]
  },
  {
   "cell_type": "markdown",
   "id": "312e1d94",
   "metadata": {},
   "source": [
    "Calculating precision, recall and F1 Score\n",
    "\n",
    "\\begin{equation} Precision = \\frac{TP}{TP + FP} \\end{equation}\n",
    "\n",
    "\\begin{equation} Recall = \\frac{TP}{TP + FN} \\end{equation}\n",
    "\n",
    "\\begin{equation} F1 Score = \\frac{2 * Precision * Recall }{Precision + Recall} \\end{equation}"
   ]
  },
  {
   "cell_type": "code",
   "execution_count": 261,
   "id": "db6c37b6",
   "metadata": {},
   "outputs": [
    {
     "name": "stdout",
     "output_type": "stream",
     "text": [
      "Precision on Test Set using best weight 1.0\n",
      "Recall on Test Set using best weight 0.9904\n",
      "F1 Score on Test Set using best weight 0.9952\n"
     ]
    }
   ],
   "source": [
    "precision = TP / (TP + FP)\n",
    "recall = TP / (TP + FN)\n",
    "F1_score = (2 * precision * recall) / (precision + recall)\n",
    "print(\"Precision on Test Set using best weight\", round(precision, 4))\n",
    "print(\"Recall on Test Set using best weight\", round(recall, 4))\n",
    "print(\"F1 Score on Test Set using best weight\", round(F1_score, 4))"
   ]
  },
  {
   "cell_type": "markdown",
   "id": "137354ca",
   "metadata": {},
   "source": [
    "# Question 2\n",
    "\n",
    "### 2.a"
   ]
  },
  {
   "cell_type": "markdown",
   "id": "4181456c",
   "metadata": {},
   "source": [
    "# Derivation of Likelihood from Data \n",
    "\n",
    "Lets assume $n$ number of sample are gererared $i.i.d$ from gaussian distribution $N(\\mu, \\sigma^2)$ where $\\mu$ and $\\sigma^2$ are mean and variacne of distribution and both are known constant.\n",
    "\n",
    "Since Likelihood is calculated for gaussian distribution, distribution of likelihood will also be gaussian $N(\\mu_L, \\sigma^2_L)$\n",
    "\n",
    "\\begin{equation} Likelihood = P(y| \\mu, \\sigma^2) = P(y_1, y_2, ....., y_n | \\mu, \\sigma^2)\\end{equation}\n",
    "\n",
    "samples are drawn from distribution $iid$\n",
    "\n",
    "\\begin{equation} P(y_1, y_2, ....., y_n | \\mu, \\sigma^2) = \\prod_{i = 1}^{n}{P(y_i| \\mu, \\sigma^2)}\\end{equation}\n",
    "\n",
    "\\begin{equation} = \\prod_{i = 1}^{n}{\\frac{1}{\\sqrt{2\\pi\\sigma^2}}exp\\left({-\\frac{(y_i - \\mu)^2}{2\\sigma^2}}\\right)}      \\end{equation} \n",
    "\n",
    "\\begin{equation} = \\left( \\frac{1}{2\\pi\\sigma^2} \\right)^{n/2}exp\\left(\\sum_{i = 1}^{n}{-\\frac{(y_i - \\mu)^2}{2\\sigma^2}}\\right) \\end{equation}\n",
    "\n",
    "Neglating the constant terms\n",
    "\n",
    "\\begin{equation} \\propto{exp\\left(\\sum_{i = 1}^{n}{-\\frac{(y_i - \\mu)^2}{2\\sigma^2}}\\right) } \\end{equation}\n",
    "\n",
    "\\begin{equation} = exp\\left( \\frac{-1}{2\\sigma^2}\\sum_{i = 1}^{n}{(y_i^2 + \\mu^2 - 2 \\mu y_i)} \\right) \\end{equation} \n",
    "\n",
    "\\begin{equation} = exp\\left( \\frac{-1}{2\\sigma^2}\\left( \\sum_{i = 1}^{n}{y_i^2} + \\sum_{i = 1}^{n}{\\mu^2} -2 \\mu \\sum_{i = 1}^{n}{y_i}\\right)\\right) \\end{equation}\n",
    "\n",
    "\\begin{equation} = exp\\left( \\frac{-1}{2\\sigma^2}\\left( \\sum_{i = 1}^{n}{y_i^2} + n\\mu^2 -2 \\mu n \\bar{y}\\right)\\right) \\end{equation}\n",
    "\n",
    "\\begin{equation} = exp\\left( \\frac{-n}{2\\sigma^2}\\left( \\mu^2 - 2 \\mu \\bar{y} + \\frac{\\sum_{i = 1}^{n}{y_i}}{n} \\right)\\right)       .... (i)\\end{equation}\n",
    "\n",
    "expected result \n",
    "\n",
    "\\begin{equation} N(\\mu_{L}, \\sigma_{L}^{2}) \\propto exp\\left( \\frac{-1}{2\\sigma^{2}_{L}}\\left(\\mu - \\mu_{L} \\right)^2\\right) = exp\\left( \\frac{-1}{2\\sigma^{2}_{L}}\\left( \\mu^2 - 2 \\mu \\mu_{L} + \\mu_{L}^{2} \\right)\\right)  .... (ii)\\end{equation}\n",
    "\n",
    "Now comparing the coefficient of $\\mu^2$ from equation $(i)$ and $(ii)$, we get\n",
    "\n",
    "\\begin{equation} \\frac{n}{2\\sigma^2}  = \\frac{1}{2\\sigma_{L}^{2}} \\end{equation}\n",
    "\n",
    "\\begin{equation} \\sigma_{L}^{2} = \\frac{\\sigma^{2}}{n}   .... (iii)\\end{equation}\n",
    "\n",
    "Comparing the coefficient of $-2\\mu$ from equation $(i)$ and $(ii)$, we get\n",
    "\n",
    "\\begin{equation} \\frac{n\\bar{y}}{2\\sigma^{2}} = \\frac{\\mu_{L}}{2\\sigma_{L}^{2}} \\end{equation}\n",
    "\n",
    "\\begin{equation} \\mu_{L} =  \\sigma_{L}^{2}\\frac{n\\bar{y}}{\\sigma^2}\\end{equation}\n",
    "\n",
    "putting the value of $\\sigma_{L}^{2}$ from equation $(iii)$, we get\n",
    "\n",
    "\\begin{equation} \\mu_{L} = \\bar{y} ....(iv)\\end{equation}\n",
    "\n",
    "Using equation $(iii)$ and $(iv)$, we get\n",
    "\n",
    "\\begin{equation} Likelihood : P(y|\\mu, \\sigma^2) \\sim N(\\bar{y}, \\sigma^2 / n) \\end{equation}"
   ]
  },
  {
   "cell_type": "code",
   "execution_count": 20,
   "id": "89ff9f96",
   "metadata": {},
   "outputs": [],
   "source": [
    "#Setting the random.seed to 0\n",
    "np.random.seed(0)"
   ]
  },
  {
   "cell_type": "markdown",
   "id": "a2de1cf5",
   "metadata": {},
   "source": [
    "#### guassian function\n",
    "\n",
    "This function will return vector of gaussian probabilty calculated on X data using mean and var"
   ]
  },
  {
   "cell_type": "code",
   "execution_count": 21,
   "id": "a035224b",
   "metadata": {},
   "outputs": [],
   "source": [
    "def gaussian(X, mean, var):\n",
    "    return np.exp((-(np.square(X-mean)))/(2*var))/(np.sqrt(2*np.pi*var))"
   ]
  },
  {
   "cell_type": "markdown",
   "id": "7968def8",
   "metadata": {},
   "source": [
    "n = number of sample"
   ]
  },
  {
   "cell_type": "code",
   "execution_count": 22,
   "id": "6376bbfb",
   "metadata": {},
   "outputs": [],
   "source": [
    "n = 50"
   ]
  },
  {
   "cell_type": "markdown",
   "id": "0bbc32dc",
   "metadata": {},
   "source": [
    "1. Sampling from gaussian distribution $N(10, 25)$ with mean : $\\mu = 10$ and variance : $\\sigma^2 = 25$\n",
    "\n",
    "2. Sorting the sample"
   ]
  },
  {
   "cell_type": "code",
   "execution_count": 63,
   "id": "75d4f2f7",
   "metadata": {},
   "outputs": [],
   "source": [
    "sample_mean = 10\n",
    "sample_std = 5\n",
    "sample_var = np.square(sample_std)\n",
    "sample = np.random.normal(sample_mean, sample_std, n)\n",
    "sample = np.sort(sample)"
   ]
  },
  {
   "cell_type": "markdown",
   "id": "3c4722af",
   "metadata": {},
   "source": [
    "Calculating Likelihood for above sample from gaussian distribution $N(\\mu_L, \\sigma_L^2)$<br> \n",
    "\n",
    "where $\\mu_L = \\bar{y}$ and  $\\sigma_L^2 = \\frac{\\sigma^2}{n}$"
   ]
  },
  {
   "cell_type": "code",
   "execution_count": 64,
   "id": "9dd3866f",
   "metadata": {},
   "outputs": [],
   "source": [
    "likelihood_mean = np.mean(sample)\n",
    "likelihood_variance = np.var(sample)/n\n",
    "likelihood_prob = gaussian(sample, likelihood_mean, likelihood_variance)"
   ]
  },
  {
   "cell_type": "markdown",
   "id": "fded1e58",
   "metadata": {},
   "source": [
    "1. Sampling prior from gaussian distribution $N(25, 25)$ with mean : $\\mu_{prior} = 25$, variance : $\\sigma_{prior}^2 = 25$ and standard deviation : $\\sigma_{prior} = 5$\n",
    "\n",
    "2. Sorting the prior sample and Calculating its probability"
   ]
  },
  {
   "cell_type": "code",
   "execution_count": 65,
   "id": "b0e02994",
   "metadata": {},
   "outputs": [],
   "source": [
    "prior_mean = 25\n",
    "prior_std = 5\n",
    "prior_var = np.square(prior_std)\n",
    "prior = np.random.normal(prior_mean, prior_std, n)\n",
    "prior = np.sort(prior)\n",
    "prior_prob = gaussian(prior, prior_mean, prior_var)"
   ]
  },
  {
   "cell_type": "markdown",
   "id": "877ad840",
   "metadata": {},
   "source": [
    "1. Sampling powsterior from gaussian distribution $N(\\mu_{posterior}, \\sigma_{posterior}^2)$ <br>\n",
    "where $\\sigma_{posterior}^2 = \\left(\\frac{1}{\\sigma_{prior}^2} + \\frac{1}{\\sigma_{likelihood}^2}\\right)^{-1}$<br>\n",
    "and $\\mu_{posterior} = \\sigma_{posterior}^2\\left(  \\frac{\\mu_{prior}}{\\sigma_{prior}^2} + \\frac{\\mu_{likelihood}}{\\sigma_{likelihood}^2} \\right)$<br>\n",
    "\n",
    "2. Sorting the posterior and Calculating its probability.\n"
   ]
  },
  {
   "cell_type": "code",
   "execution_count": 66,
   "id": "c4858d3a",
   "metadata": {},
   "outputs": [],
   "source": [
    "posterior_var = 1 / ((1/prior_var) + (1 / likelihood_variance)) \n",
    "posterior_mean = posterior_var * ((prior_mean/prior_var) + (likelihood_mean / likelihood_variance))\n",
    "posterior = np.random.normal(posterior_mean, np.sqrt(posterior_var), n)\n",
    "posterior = np.sort(posterior)\n",
    "posterior_prob = gaussian(posterior, posterior_mean, posterior_var)"
   ]
  },
  {
   "cell_type": "markdown",
   "id": "45f727a3",
   "metadata": {},
   "source": [
    "### Ploting the Likelihood, Prior and Posterior"
   ]
  },
  {
   "cell_type": "code",
   "execution_count": 67,
   "id": "8b92533f",
   "metadata": {},
   "outputs": [
    {
     "data": {
      "image/png": "[encoded data removed]",
      "text/plain": [
       "<Figure size 432x288 with 1 Axes>"
      ]
     },
     "metadata": {
      "needs_background": "light"
     },
     "output_type": "display_data"
    }
   ],
   "source": [
    "#Creting sample point for likelihood and finding its probability\n",
    "x_data = np.linspace(sample_mean - 3*sample_std, sample_mean + 3* sample_std, 500)\n",
    "y_likelihood = gaussian(x_data, likelihood_mean, likelihood_variance)\n",
    "\n",
    "#Creting sample point for prior and finding its probability\n",
    "x_prior = np.linspace(prior_mean - 3*prior_std, prior_mean + 3* prior_std, 500)\n",
    "y_prior = gaussian(x_prior, prior_mean, prior_var)\n",
    "\n",
    "#Creting sample point for posterior and finding its probability\n",
    "x_posterior = np.linspace(posterior_mean - 3*np.sqrt(posterior_var), posterior_mean + 3*np.sqrt(posterior_var), 500)\n",
    "y_posterior = gaussian(x_posterior, posterior_mean, posterior_var)\n",
    "\n",
    "plt.plot(x_data, y_likelihood, label = \"likelihood\")\n",
    "plt.plot(x_prior, y_prior, label = \"prior\")\n",
    "plt.plot(x_posterior, y_posterior, label = \"posterior\")\n",
    "plt.xlabel(\"Sample Point\")\n",
    "plt.ylabel(\"Probability\")\n",
    "plt.title(\"Normal Distribution\")\n",
    "plt.legend()\n",
    "plt.show()"
   ]
  },
  {
   "cell_type": "markdown",
   "id": "1aafff28",
   "metadata": {},
   "source": [
    "### 2.b"
   ]
  },
  {
   "cell_type": "markdown",
   "id": "5f956366",
   "metadata": {},
   "source": [
    "### get_likelihood function\n",
    "\n",
    "This function return the total likelihood probability of the sample\n",
    "\n",
    "\\begin{equation} Total Likelihood Probability = \\prod_{i = 1}^{n}{P(y_i|\\mu, \\sigma^2)}\\end{equation}\n",
    "\n",
    "where $P(y_i|\\mu, \\sigma^2)$ is Gaussian Distribution"
   ]
  },
  {
   "cell_type": "code",
   "execution_count": 47,
   "id": "2d4dae8b",
   "metadata": {},
   "outputs": [],
   "source": [
    "def get_likelihood(sample, mean, std):\n",
    "    var = np.square(std)\n",
    "    return np.prod(gaussian(sample, mean, var))    "
   ]
  },
  {
   "cell_type": "markdown",
   "id": "523a4b84",
   "metadata": {},
   "source": [
    "### get_prior function\n",
    "\n",
    "This function return the probability of candidate from Prior Distribution\n",
    "\n",
    "\\begin{equation} P(candidate) = N(candidate | \\mu, \\sigma^2)\\end{equation}\n",
    "\n",
    "where $N(\\mu, \\sigma^2)$ is Prior Probability Distribution"
   ]
  },
  {
   "cell_type": "code",
   "execution_count": 48,
   "id": "2cc75a9c",
   "metadata": {},
   "outputs": [],
   "source": [
    "def get_prior(candidate, mean, std):\n",
    "    var = np.square(std)\n",
    "    return gaussian(candidate, mean, var)"
   ]
  },
  {
   "cell_type": "markdown",
   "id": "685ff080",
   "metadata": {},
   "source": [
    "### get_posterior function\n",
    "\n",
    "This function return posterior probability of candidate given sample data\n",
    "\n",
    "\n",
    "\\begin{equation} P(candidate |sample) = P(candidate) * P(sample|candidate)\\end{equation}\n",
    "\n",
    "\\begin{equation} P(candidate |sample) = Prior * Likelihood\\end{equation}"
   ]
  },
  {
   "cell_type": "code",
   "execution_count": 49,
   "id": "31a486f2",
   "metadata": {},
   "outputs": [],
   "source": [
    "def get_posterior(sample, candidate, p_mean, p_var, l_var):\n",
    "    \n",
    "    prior = get_prior(candidate, p_mean, p_var)\n",
    "    likelihood = get_likelihood(sample, candidate, l_var)\n",
    "    posterior = prior * likelihood\n",
    "    \n",
    "    return posterior"
   ]
  },
  {
   "cell_type": "markdown",
   "id": "45af38d2",
   "metadata": {},
   "source": [
    "### MCMC Function\n",
    "\n",
    "**Arguments**\n",
    "1. itr : Number of Iteration\n",
    "2. data : Distribution of Sample\n",
    "3. p_mean : Mean of Prior Distribution\n",
    "4. p_std : Standard Deviation of Prior Distribution\n",
    "5. convergence : If Set True the  break the on convergence\n",
    "\n",
    "**Return**\n",
    "1. sample : MCMC Sampled mean\n",
    "2. i: Number of iteration used before convergence\n",
    "3. acceptance : total number of new candidate accepted \n",
    "\n",
    "\n",
    "**Algorithm**\n",
    "\n",
    "1. Initialize the satrting value of theta(mean)\n",
    "\n",
    "\n",
    "2. Generate a proposal candidate$(\\theta)$ from jump distrubtion $J(\\theta|\\theta_{t-1})$ which in this case is $N(\\theta_{t-1}, \\sigma^2)$\n",
    "\n",
    "\n",
    "3. Find the ratio of posterior of the proposal to the posterior of the current value\n",
    "\\begin{equation} prob = \\frac{P(\\theta_t)P(sample|\\theta_t)}{P(\\theta_{t-1})P(sample|\\theta_{t-1})} \\end{equation}\n",
    "\n",
    "\n",
    "4. Generate a random number from uniform distribution i.e., $a \\sim Uniform(0, 1)$\n",
    "\n",
    "\n",
    "5. If a < prob accept the candidate $\\theta_t$ and it list of sample else reject it and append previous value of theta $\\theta_{t-1}$.\n",
    "\n",
    "\n",
    "6. Repeat to step 2 until convergence\n",
    "\n",
    "\n",
    "\n",
    "**Convergence Criteria**\n",
    "1. Checking for convergence after crossing the boundary of 500.\n",
    "2. Checking for convergence after every 500 iteration.\n",
    "3. Declaring converged when there is no change in mean of distribution for current and previous 500 iteration\n",
    "\n"
   ]
  },
  {
   "cell_type": "code",
   "execution_count": 50,
   "id": "c8a9fd6a",
   "metadata": {},
   "outputs": [],
   "source": [
    "def MCMC(itr, data, p_mean, p_std, std = 5, convergence = False):\n",
    "    \n",
    "    var = np.square(std)\n",
    "    \n",
    "    sample = [5]\n",
    "    \n",
    "    prev_mean = np.mean(sample)\n",
    "    \n",
    "    acceptance = 0\n",
    "    \n",
    "    for i in range(itr):\n",
    "        \n",
    "        candidate = np.random.normal(sample[-1], var)\n",
    "        \n",
    "        prob = min(1, (get_posterior(data, candidate, p_mean, p_std, 5) / get_posterior(data, sample[-1], p_mean, p_std, 5)))\n",
    "        \n",
    "        if np.random.uniform(0, 1) < prob:\n",
    "            \n",
    "            sample.append(candidate)\n",
    "            acceptance = acceptance + 1\n",
    "        \n",
    "        else:\n",
    "            sample.append(sample[-1])\n",
    "        \n",
    "        if convergence and (i >5000) and (i%500 == 0) :\n",
    "            \n",
    "            cur_mean = np.mean(sample[-500:])\n",
    "        \n",
    "            if (abs(prev_mean - cur_mean) < 1e-3):\n",
    "                break\n",
    "            prev_mean = cur_mean\n",
    "    \n",
    "    \n",
    "    return sample, i, acceptance\n"
   ]
  },
  {
   "cell_type": "markdown",
   "id": "aa0b7837",
   "metadata": {},
   "source": [
    "Finding the Posterior distributio Using MCMC sampling on sample(i.e., above used) and known prior"
   ]
  },
  {
   "cell_type": "code",
   "execution_count": 69,
   "id": "7fbb95dc",
   "metadata": {},
   "outputs": [],
   "source": [
    "mcmc, itr, acceptance = MCMC(100000, sample, 25, 5, 0.5)"
   ]
  },
  {
   "cell_type": "markdown",
   "id": "736f51cc",
   "metadata": {},
   "source": [
    "Neglating the initial 10% of values as burnout process"
   ]
  },
  {
   "cell_type": "code",
   "execution_count": 70,
   "id": "b7fe6efa",
   "metadata": {},
   "outputs": [],
   "source": [
    "sam = mcmc[int(0.1 * len(mcmc)):]"
   ]
  },
  {
   "cell_type": "markdown",
   "id": "09b1d8aa",
   "metadata": {},
   "source": [
    "Ploting the Histogram of sample generate by MCMC and actual postrior distribution"
   ]
  },
  {
   "cell_type": "code",
   "execution_count": 71,
   "id": "4eb22a1a",
   "metadata": {},
   "outputs": [
    {
     "data": {
      "image/png": "[encoded data removed]",
      "text/plain": [
       "<Figure size 432x288 with 1 Axes>"
      ]
     },
     "metadata": {
      "needs_background": "light"
     },
     "output_type": "display_data"
    }
   ],
   "source": [
    "plt.hist(sam, bins=100, density=True)\n",
    "plt.plot(x_posterior, y_posterior, color = \"red\")\n",
    "plt.xlabel(\"Theta\")\n",
    "plt.ylabel(\"Probability\")\n",
    "plt.title(\"Posterior Distribution\")\n",
    "plt.show()"
   ]
  },
  {
   "cell_type": "markdown",
   "id": "913b97de",
   "metadata": {},
   "source": [
    "### 2.c"
   ]
  },
  {
   "cell_type": "markdown",
   "id": "d6ec18a1",
   "metadata": {},
   "source": [
    "### Optimal proposal width\n",
    "\n",
    "**Small proposal width : Large acceptance Rate but SLOW movement :** if $\\sigma$ is small then all proposed moves will be accepted, but they will represent small movement, so overall chain is not mixed well.\n",
    "\n",
    "\n",
    "\n",
    "**Large proposal width : Large Rejection Rate but FAST movement :** similarly if if $\\sigma$ is very large, then most moves will be rejected, so the chain will usually not move at all.\n",
    "\n",
    "\n",
    "**See the last 3 graph for explanation**.\n",
    "\n",
    "What is needed is a value of $\\sigma$ between the two extremes, thus allowing for reasonable-sized proposal moves together with a reasonably high acceptance probability.\n",
    "\n",
    "Solution : Choose the proposal width which is far from both extreme.  \n",
    "\n",
    "We are checking the MCMC series for different proposal width with 5 fold averaging for more accurate calculation of acceptane rate."
   ]
  },
  {
   "cell_type": "code",
   "execution_count": 35,
   "id": "5209e7a3",
   "metadata": {},
   "outputs": [],
   "source": [
    "sd = [0.5, 0.75, 1, 2, 3, 4, 5, 6, 7, 8, 15, 20]"
   ]
  },
  {
   "cell_type": "code",
   "execution_count": 36,
   "id": "8ea142f7",
   "metadata": {},
   "outputs": [],
   "source": [
    "l = []\n",
    "\n",
    "for i in sd:\n",
    "    \n",
    "    acc = []\n",
    "    it = []\n",
    "    \n",
    "    for j in range(5):\n",
    "    \n",
    "        mcmc, itr, acceptance = MCMC(100000, sample,25, 5, std = i, convergence=True)\n",
    "        \n",
    "        it.append(itr)\n",
    "        acc.append(acceptance)\n",
    "    \n",
    "    l.append([i, np.mean(itr), np.mean(acceptance)])"
   ]
  },
  {
   "cell_type": "markdown",
   "id": "e5e95e2a",
   "metadata": {},
   "source": [
    "Calculating the mean acceptance rate for all proposal width and ploting it."
   ]
  },
  {
   "cell_type": "code",
   "execution_count": 37,
   "id": "96f11697",
   "metadata": {},
   "outputs": [
    {
     "data": {
      "image/png": "[encoded data removed]",
      "text/plain": [
       "<Figure size 432x288 with 1 Axes>"
      ]
     },
     "metadata": {
      "needs_background": "light"
     },
     "output_type": "display_data"
    }
   ],
   "source": [
    "x = np.array(l)[:, 2] * 100 / np.array(l)[:, 1]\n",
    "plt.plot(sd,x)\n",
    "plt.xlabel(\"Standard Devation\")\n",
    "plt.ylabel(\"Percentage\")\n",
    "plt.title(\"Acceptance Rate\")\n",
    "plt.show()"
   ]
  },
  {
   "cell_type": "markdown",
   "id": "b2564508",
   "metadata": {},
   "source": [
    "### Optimal value for sigma\n",
    "From the above plot we can say acceptance rate of proposal width in range **[1 - 3]** is optimal.\n",
    "For single optimal proposal width I will say **2**."
   ]
  },
  {
   "cell_type": "code",
   "execution_count": 38,
   "id": "1ed038ca",
   "metadata": {},
   "outputs": [
    {
     "data": {
      "image/png": "[encoded data removed]",
      "text/plain": [
       "<Figure size 432x288 with 1 Axes>"
      ]
     },
     "metadata": {
      "needs_background": "light"
     },
     "output_type": "display_data"
    }
   ],
   "source": [
    "plt.plot(sd,np.array(l)[:, 1])\n",
    "plt.xlabel(\"Standard Devation\")\n",
    "plt.ylabel(\"Number of iteration\")\n",
    "plt.title(\"Average number of iteration\")\n",
    "plt.show()"
   ]
  },
  {
   "cell_type": "markdown",
   "id": "ccec2c0d",
   "metadata": {},
   "source": [
    "Usually smaller value sigma converges faster than larger value of sigma"
   ]
  },
  {
   "cell_type": "markdown",
   "id": "c5d1de2a",
   "metadata": {},
   "source": [
    "##### Demonstrate the consequences of using sub-optimal proposal width and terminating sampling too soon."
   ]
  },
  {
   "cell_type": "markdown",
   "id": "785706d4",
   "metadata": {},
   "source": [
    "**Large Sigma :**\n",
    "From the below graph it can clearly seen that having larger $\\sigma = 8$  reject most of the candidate values that means it requires large number of iteration to completly reflect original distribution. "
   ]
  },
  {
   "cell_type": "code",
   "execution_count": 92,
   "id": "e01e649c",
   "metadata": {},
   "outputs": [
    {
     "data": {
      "image/png": "[encoded data removed]",
      "text/plain": [
       "<Figure size 432x288 with 1 Axes>"
      ]
     },
     "metadata": {
      "needs_background": "light"
     },
     "output_type": "display_data"
    }
   ],
   "source": [
    "mcmc, itr, acceptance = MCMC(1000, sample,25, 5, std = 8)\n",
    "sam = mcmc[int(0.1 * len(mcmc)):]\n",
    "plt.hist(sam, bins=100, density=True)\n",
    "plt.plot(x_posterior, y_posterior, color = \"red\")\n",
    "plt.show()"
   ]
  },
  {
   "cell_type": "markdown",
   "id": "a7d32729",
   "metadata": {},
   "source": [
    "**Small Sigma :** When using smaller value of sigma $\\sigma = 1$ movement is very slow means it requirs large numbe of iteration of reach original distribution"
   ]
  },
  {
   "cell_type": "code",
   "execution_count": 80,
   "id": "07825066",
   "metadata": {},
   "outputs": [
    {
     "data": {
      "image/png": "[encoded data removed]",
      "text/plain": [
       "<Figure size 432x288 with 1 Axes>"
      ]
     },
     "metadata": {
      "needs_background": "light"
     },
     "output_type": "display_data"
    }
   ],
   "source": [
    "mcmc, itr, acceptance = MCMC(1000, sample,25, 5, std = 0.1)\n",
    "sam = mcmc[int(0.1 * len(mcmc)):]\n",
    "plt.hist(sam, bins=100, density=True)\n",
    "plt.plot(x_posterior, y_posterior, color = \"red\")\n",
    "plt.show()"
   ]
  },
  {
   "cell_type": "markdown",
   "id": "345509cb",
   "metadata": {},
   "source": [
    "**Sigma from optimal range :** When using value of $\\sigma$ from the optimal range decenet number of candidate are accepted and movement is also fast"
   ]
  },
  {
   "cell_type": "code",
   "execution_count": 79,
   "id": "f4a5e8c2",
   "metadata": {},
   "outputs": [
    {
     "data": {
      "image/png": "[encoded data removed]",
      "text/plain": [
       "<Figure size 432x288 with 1 Axes>"
      ]
     },
     "metadata": {
      "needs_background": "light"
     },
     "output_type": "display_data"
    }
   ],
   "source": [
    "mcmc, itr, acceptance = MCMC(100, sample,25, 5, std = 1)\n",
    "sam = mcmc[int(0.1 * len(mcmc)):]\n",
    "plt.hist(sam, bins=100, density=True)\n",
    "plt.plot(x_posterior, y_posterior, color = \"red\")\n",
    "plt.show()"
   ]
  },
  {
   "cell_type": "code",
   "execution_count": null,
   "id": "3daefe4b",
   "metadata": {},
   "outputs": [],
   "source": []
  }
 ],
 "metadata": {
  "kernelspec": {
   "display_name": "Python 3 (ipykernel)",
   "language": "python",
   "name": "python3"
  },
  "language_info": {
   "codemirror_mode": {
    "name": "ipython",
    "version": 3
   },
   "file_extension": ".py",
   "mimetype": "text/x-python",
   "name": "python",
   "nbconvert_exporter": "python",
   "pygments_lexer": "ipython3",
   "version": "3.9.12"
  }
 },
 "nbformat": 4,
 "nbformat_minor": 5
}
