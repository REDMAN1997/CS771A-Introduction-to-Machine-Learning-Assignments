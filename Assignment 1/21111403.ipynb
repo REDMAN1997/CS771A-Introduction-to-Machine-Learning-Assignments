{
 "cells": [
  {
   "cell_type": "markdown",
   "metadata": {
    "id": "ZAHxAoNfmBjn"
   },
   "source": [
    "## Assignment 1\n"
   ]
  },
  {
   "cell_type": "markdown",
   "metadata": {
    "id": "jVwanBo7mOJG"
   },
   "source": [
    "Importing Libraries and Mounting Google drive"
   ]
  },
  {
   "cell_type": "code",
   "execution_count": 1,
   "metadata": {
    "colab": {
     "base_uri": "https://localhost:8080/"
    },
    "id": "ee1HMq2rU-DL",
    "outputId": "680cb5ab-7972-490a-cd91-6330d5d9d8e2"
   },
   "outputs": [
    {
     "name": "stdout",
     "output_type": "stream",
     "text": [
      "Drive already mounted at /content/drive; to attempt to forcibly remount, call drive.mount(\"/content/drive\", force_remount=True).\n"
     ]
    }
   ],
   "source": [
    "from google.colab import drive\n",
    "drive.mount('/content/drive')"
   ]
  },
  {
   "cell_type": "code",
   "execution_count": 2,
   "metadata": {
    "id": "Chpk78v0WGER"
   },
   "outputs": [],
   "source": [
    "import numpy as np\n",
    "import pandas as pd\n",
    "from numpy import linalg as lin\n",
    "import matplotlib.pyplot as plt\n",
    "%matplotlib inline"
   ]
  },
  {
   "cell_type": "markdown",
   "metadata": {
    "id": "8Fe4O8XFWbhJ"
   },
   "source": [
    "## Question 1 : K - Nearest Neighbors"
   ]
  },
  {
   "cell_type": "markdown",
   "metadata": {
    "id": "lvF7L39OW-eh"
   },
   "source": [
    " importing data set\n"
   ]
  },
  {
   "cell_type": "code",
   "execution_count": 21,
   "metadata": {
    "colab": {
     "base_uri": "https://localhost:8080/"
    },
    "id": "8HvmP-eBXgzE",
    "outputId": "22863275-39e9-4f9e-b893-578ea430156a"
   },
   "outputs": [
    {
     "name": "stdout",
     "output_type": "stream",
     "text": [
      "1. Title: 1985 Auto Imports Database\n",
      "\n",
      "2. Source Information:\n",
      "   -- Creator/Donor: Jeffrey C. Schlimmer (Jeffrey.Schlimmer@a.gp.cs.cmu.edu)\n",
      "   -- Date: 19 May 1987\n",
      "   -- Sources:\n",
      "     1) 1985 Model Import Car and Truck Specifications, 1985 Ward's\n",
      "        Automotive Yearbook.\n",
      "     2) Personal Auto Manuals, Insurance Services Office, 160 Water\n",
      "        Street, New York, NY 10038 \n",
      "     3) Insurance Collision Report, Insurance Institute for Highway\n",
      "        Safety, Watergate 600, Washington, DC 20037\n",
      "\n",
      "3. Past Usage:\n",
      "   -- Kibler,~D., Aha,~D.~W., \\& Albert,~M. (1989).  Instance-based prediction\n",
      "      of real-valued attributes.  {\\it Computational Intelligence}, {\\it 5},\n",
      "      51--57.\n",
      "\t -- Predicted price of car using all numeric and Boolean attributes\n",
      "\t -- Method: an instance-based learning (IBL) algorithm derived from a\n",
      "\t    localized k-nearest neighbor algorithm.  Compared with a\n",
      "\t    linear regression prediction...so all instances\n",
      "\t    with missing attribute values were discarded.  This resulted with\n",
      "\t    a training set of 159 instances, which was also used as a test\n",
      "\t    set (minus the actual instance during testing).\n",
      "\t -- Results: Percent Average Deviation Error of Prediction from Actual\n",
      "\t    -- 11.84% for the IBL algorithm\n",
      "\t    -- 14.12% for the resulting linear regression equation\n",
      "\n",
      "4. Relevant Information:\n",
      "   -- Description\n",
      "      This data set consists of three types of entities: (a) the\n",
      "      specification of an auto in terms of various characteristics, (b)\n",
      "      its assigned insurance risk rating, (c) its normalized losses in use\n",
      "      as compared to other cars.  The second rating corresponds to the\n",
      "      degree to which the auto is more risky than its price indicates.\n",
      "      Cars are initially assigned a risk factor symbol associated with its\n",
      "      price.   Then, if it is more risky (or less), this symbol is\n",
      "      adjusted by moving it up (or down) the scale.  Actuarians call this\n",
      "      process \"symboling\".  A value of +3 indicates that the auto is\n",
      "      risky, -3 that it is probably pretty safe.\n",
      "\n",
      "      The third factor is the relative average loss payment per insured\n",
      "      vehicle year.  This value is normalized for all autos within a\n",
      "      particular size classification (two-door small, station wagons,\n",
      "      sports/speciality, etc...), and represents the average loss per car\n",
      "      per year.\n",
      "\n",
      "   -- Note: Several of the attributes in the database could be used as a\n",
      "            \"class\" attribute.\n",
      "\n",
      "5. Number of Instances: 205\n",
      "\n",
      "6. Number of Attributes: 26 total\n",
      "   -- 15 continuous\n",
      "   -- 1 integer\n",
      "   -- 10 nominal\n",
      "\n",
      "7. Attribute Information:     \n",
      "     Attribute:                Attribute Range:\n",
      "     ------------------        -----------------------------------------------\n",
      "  1. symboling:                -3, -2, -1, 0, 1, 2, 3.\n",
      "  2. normalized-losses:        continuous from 65 to 256.\n",
      "  3. make:                     alfa-romero, audi, bmw, chevrolet, dodge, honda,\n",
      "                               isuzu, jaguar, mazda, mercedes-benz, mercury,\n",
      "                               mitsubishi, nissan, peugot, plymouth, porsche,\n",
      "                               renault, saab, subaru, toyota, volkswagen, volvo\n",
      "  4. fuel-type:                diesel, gas.\n",
      "  5. aspiration:               std, turbo.\n",
      "  6. num-of-doors:             four, two.\n",
      "  7. body-style:               hardtop, wagon, sedan, hatchback, convertible.\n",
      "  8. drive-wheels:             4wd, fwd, rwd.\n",
      "  9. engine-location:          front, rear.\n",
      " 10. wheel-base:               continuous from 86.6 120.9.\n",
      " 11. length:                   continuous from 141.1 to 208.1.\n",
      " 12. width:                    continuous from 60.3 to 72.3.\n",
      " 13. height:                   continuous from 47.8 to 59.8.\n",
      " 14. curb-weight:              continuous from 1488 to 4066.\n",
      " 15. engine-type:              dohc, dohcv, l, ohc, ohcf, ohcv, rotor.\n",
      " 16. num-of-cylinders:         eight, five, four, six, three, twelve, two.\n",
      " 17. engine-size:              continuous from 61 to 326.\n",
      " 18. fuel-system:              1bbl, 2bbl, 4bbl, idi, mfi, mpfi, spdi, spfi.\n",
      " 19. bore:                     continuous from 2.54 to 3.94.\n",
      " 20. stroke:                   continuous from 2.07 to 4.17.\n",
      " 21. compression-ratio:        continuous from 7 to 23.\n",
      " 22. horsepower:               continuous from 48 to 288.\n",
      " 23. peak-rpm:                 continuous from 4150 to 6600.\n",
      " 24. city-mpg:                 continuous from 13 to 49.\n",
      " 25. highway-mpg:              continuous from 16 to 54.\n",
      " 26. price:                    continuous from 5118 to 45400.\n",
      "\n",
      "8. Missing Attribute Values: (denoted by \"?\")\n",
      "   Attribute #:   Number of instances missing a value:\n",
      "   2.             41\n",
      "   6.             2\n",
      "   19.            4\n",
      "   20.            4\n",
      "   22.            2\n",
      "   23.            2\n",
      "   26.            4\n",
      "\n",
      "\n",
      "\n",
      "\n",
      "\n"
     ]
    }
   ],
   "source": [
    "with open(\"drive/MyDrive/Assignment 1/Dataset/imports-85.names\") as f:\n",
    "    print(f.read())"
   ]
  },
  {
   "cell_type": "code",
   "execution_count": 22,
   "metadata": {
    "id": "XFwt-F7yXpe6"
   },
   "outputs": [],
   "source": [
    "data = pd.read_csv(\"drive/MyDrive/Assignment 1/Dataset/imports-85.data\")\n",
    "columns =  [\"symboling\", \"normalized-losses\", \"make\", \"fuel-type\", \"aspiration\", \"num-of-doors\", \"body-style\",  \"drive-wheels\", \"engine-location\", \n",
    "                \"wheel-base\", \"length\", \"width\", \"height\", 'curb-weight', \"engine-type\", \"num-of-cylinders\", \"engine-size\", \"fuel-system\", \"bore\", \"stroke\", \n",
    "                \"compression-ratio\", \"horsepower\", \"peak-rpm\", \"city-mpg\", \"highway-mpg\", \"price\"]\n",
    "data.columns = columns\n",
    "data.to_csv(\"drive/MyDrive/Assignment 1/Dataset/automobile.csv\", index = None, header = True)\n",
    "df = pd.read_csv(\"drive/MyDrive/Assignment 1/Dataset/automobile.csv\")"
   ]
  },
  {
   "cell_type": "code",
   "execution_count": 23,
   "metadata": {
    "colab": {
     "base_uri": "https://localhost:8080/",
     "height": 292
    },
    "id": "XD0y_DKYWETl",
    "outputId": "811b7211-cea6-4dee-e99e-e3a5cb63b785"
   },
   "outputs": [
    {
     "data": {
      "text/html": [
       "<div>\n",
       "<style scoped>\n",
       "    .dataframe tbody tr th:only-of-type {\n",
       "        vertical-align: middle;\n",
       "    }\n",
       "\n",
       "    .dataframe tbody tr th {\n",
       "        vertical-align: top;\n",
       "    }\n",
       "\n",
       "    .dataframe thead th {\n",
       "        text-align: right;\n",
       "    }\n",
       "</style>\n",
       "<table border=\"1\" class=\"dataframe\">\n",
       "  <thead>\n",
       "    <tr style=\"text-align: right;\">\n",
       "      <th></th>\n",
       "      <th>symboling</th>\n",
       "      <th>normalized-losses</th>\n",
       "      <th>make</th>\n",
       "      <th>fuel-type</th>\n",
       "      <th>aspiration</th>\n",
       "      <th>num-of-doors</th>\n",
       "      <th>body-style</th>\n",
       "      <th>drive-wheels</th>\n",
       "      <th>engine-location</th>\n",
       "      <th>wheel-base</th>\n",
       "      <th>length</th>\n",
       "      <th>width</th>\n",
       "      <th>height</th>\n",
       "      <th>curb-weight</th>\n",
       "      <th>engine-type</th>\n",
       "      <th>num-of-cylinders</th>\n",
       "      <th>engine-size</th>\n",
       "      <th>fuel-system</th>\n",
       "      <th>bore</th>\n",
       "      <th>stroke</th>\n",
       "      <th>compression-ratio</th>\n",
       "      <th>horsepower</th>\n",
       "      <th>peak-rpm</th>\n",
       "      <th>city-mpg</th>\n",
       "      <th>highway-mpg</th>\n",
       "      <th>price</th>\n",
       "    </tr>\n",
       "  </thead>\n",
       "  <tbody>\n",
       "    <tr>\n",
       "      <th>0</th>\n",
       "      <td>3</td>\n",
       "      <td>?</td>\n",
       "      <td>alfa-romero</td>\n",
       "      <td>gas</td>\n",
       "      <td>std</td>\n",
       "      <td>two</td>\n",
       "      <td>convertible</td>\n",
       "      <td>rwd</td>\n",
       "      <td>front</td>\n",
       "      <td>88.6</td>\n",
       "      <td>168.8</td>\n",
       "      <td>64.1</td>\n",
       "      <td>48.8</td>\n",
       "      <td>2548</td>\n",
       "      <td>dohc</td>\n",
       "      <td>four</td>\n",
       "      <td>130</td>\n",
       "      <td>mpfi</td>\n",
       "      <td>3.47</td>\n",
       "      <td>2.68</td>\n",
       "      <td>9.0</td>\n",
       "      <td>111</td>\n",
       "      <td>5000</td>\n",
       "      <td>21</td>\n",
       "      <td>27</td>\n",
       "      <td>16500</td>\n",
       "    </tr>\n",
       "    <tr>\n",
       "      <th>1</th>\n",
       "      <td>1</td>\n",
       "      <td>?</td>\n",
       "      <td>alfa-romero</td>\n",
       "      <td>gas</td>\n",
       "      <td>std</td>\n",
       "      <td>two</td>\n",
       "      <td>hatchback</td>\n",
       "      <td>rwd</td>\n",
       "      <td>front</td>\n",
       "      <td>94.5</td>\n",
       "      <td>171.2</td>\n",
       "      <td>65.5</td>\n",
       "      <td>52.4</td>\n",
       "      <td>2823</td>\n",
       "      <td>ohcv</td>\n",
       "      <td>six</td>\n",
       "      <td>152</td>\n",
       "      <td>mpfi</td>\n",
       "      <td>2.68</td>\n",
       "      <td>3.47</td>\n",
       "      <td>9.0</td>\n",
       "      <td>154</td>\n",
       "      <td>5000</td>\n",
       "      <td>19</td>\n",
       "      <td>26</td>\n",
       "      <td>16500</td>\n",
       "    </tr>\n",
       "    <tr>\n",
       "      <th>2</th>\n",
       "      <td>2</td>\n",
       "      <td>164</td>\n",
       "      <td>audi</td>\n",
       "      <td>gas</td>\n",
       "      <td>std</td>\n",
       "      <td>four</td>\n",
       "      <td>sedan</td>\n",
       "      <td>fwd</td>\n",
       "      <td>front</td>\n",
       "      <td>99.8</td>\n",
       "      <td>176.6</td>\n",
       "      <td>66.2</td>\n",
       "      <td>54.3</td>\n",
       "      <td>2337</td>\n",
       "      <td>ohc</td>\n",
       "      <td>four</td>\n",
       "      <td>109</td>\n",
       "      <td>mpfi</td>\n",
       "      <td>3.19</td>\n",
       "      <td>3.40</td>\n",
       "      <td>10.0</td>\n",
       "      <td>102</td>\n",
       "      <td>5500</td>\n",
       "      <td>24</td>\n",
       "      <td>30</td>\n",
       "      <td>13950</td>\n",
       "    </tr>\n",
       "    <tr>\n",
       "      <th>3</th>\n",
       "      <td>2</td>\n",
       "      <td>164</td>\n",
       "      <td>audi</td>\n",
       "      <td>gas</td>\n",
       "      <td>std</td>\n",
       "      <td>four</td>\n",
       "      <td>sedan</td>\n",
       "      <td>4wd</td>\n",
       "      <td>front</td>\n",
       "      <td>99.4</td>\n",
       "      <td>176.6</td>\n",
       "      <td>66.4</td>\n",
       "      <td>54.3</td>\n",
       "      <td>2824</td>\n",
       "      <td>ohc</td>\n",
       "      <td>five</td>\n",
       "      <td>136</td>\n",
       "      <td>mpfi</td>\n",
       "      <td>3.19</td>\n",
       "      <td>3.40</td>\n",
       "      <td>8.0</td>\n",
       "      <td>115</td>\n",
       "      <td>5500</td>\n",
       "      <td>18</td>\n",
       "      <td>22</td>\n",
       "      <td>17450</td>\n",
       "    </tr>\n",
       "    <tr>\n",
       "      <th>4</th>\n",
       "      <td>2</td>\n",
       "      <td>?</td>\n",
       "      <td>audi</td>\n",
       "      <td>gas</td>\n",
       "      <td>std</td>\n",
       "      <td>two</td>\n",
       "      <td>sedan</td>\n",
       "      <td>fwd</td>\n",
       "      <td>front</td>\n",
       "      <td>99.8</td>\n",
       "      <td>177.3</td>\n",
       "      <td>66.3</td>\n",
       "      <td>53.1</td>\n",
       "      <td>2507</td>\n",
       "      <td>ohc</td>\n",
       "      <td>five</td>\n",
       "      <td>136</td>\n",
       "      <td>mpfi</td>\n",
       "      <td>3.19</td>\n",
       "      <td>3.40</td>\n",
       "      <td>8.5</td>\n",
       "      <td>110</td>\n",
       "      <td>5500</td>\n",
       "      <td>19</td>\n",
       "      <td>25</td>\n",
       "      <td>15250</td>\n",
       "    </tr>\n",
       "  </tbody>\n",
       "</table>\n",
       "</div>"
      ],
      "text/plain": [
       "   symboling normalized-losses         make  ... city-mpg highway-mpg  price\n",
       "0          3                 ?  alfa-romero  ...       21          27  16500\n",
       "1          1                 ?  alfa-romero  ...       19          26  16500\n",
       "2          2               164         audi  ...       24          30  13950\n",
       "3          2               164         audi  ...       18          22  17450\n",
       "4          2                 ?         audi  ...       19          25  15250\n",
       "\n",
       "[5 rows x 26 columns]"
      ]
     },
     "execution_count": 23,
     "metadata": {},
     "output_type": "execute_result"
    }
   ],
   "source": [
    "df.head()"
   ]
  },
  {
   "cell_type": "code",
   "execution_count": 24,
   "metadata": {
    "colab": {
     "base_uri": "https://localhost:8080/",
     "height": 297
    },
    "id": "CSn4njGnHRkD",
    "outputId": "4b76791e-0eeb-48b1-cb3c-17790b94852b"
   },
   "outputs": [
    {
     "data": {
      "text/html": [
       "<div>\n",
       "<style scoped>\n",
       "    .dataframe tbody tr th:only-of-type {\n",
       "        vertical-align: middle;\n",
       "    }\n",
       "\n",
       "    .dataframe tbody tr th {\n",
       "        vertical-align: top;\n",
       "    }\n",
       "\n",
       "    .dataframe thead th {\n",
       "        text-align: right;\n",
       "    }\n",
       "</style>\n",
       "<table border=\"1\" class=\"dataframe\">\n",
       "  <thead>\n",
       "    <tr style=\"text-align: right;\">\n",
       "      <th></th>\n",
       "      <th>symboling</th>\n",
       "      <th>wheel-base</th>\n",
       "      <th>length</th>\n",
       "      <th>width</th>\n",
       "      <th>height</th>\n",
       "      <th>curb-weight</th>\n",
       "      <th>engine-size</th>\n",
       "      <th>compression-ratio</th>\n",
       "      <th>city-mpg</th>\n",
       "      <th>highway-mpg</th>\n",
       "    </tr>\n",
       "  </thead>\n",
       "  <tbody>\n",
       "    <tr>\n",
       "      <th>count</th>\n",
       "      <td>204.000000</td>\n",
       "      <td>204.000000</td>\n",
       "      <td>204.000000</td>\n",
       "      <td>204.000000</td>\n",
       "      <td>204.000000</td>\n",
       "      <td>204.000000</td>\n",
       "      <td>204.000000</td>\n",
       "      <td>204.000000</td>\n",
       "      <td>204.000000</td>\n",
       "      <td>204.000000</td>\n",
       "    </tr>\n",
       "    <tr>\n",
       "      <th>mean</th>\n",
       "      <td>0.823529</td>\n",
       "      <td>98.806373</td>\n",
       "      <td>174.075000</td>\n",
       "      <td>65.916667</td>\n",
       "      <td>53.749020</td>\n",
       "      <td>2555.602941</td>\n",
       "      <td>126.892157</td>\n",
       "      <td>10.148137</td>\n",
       "      <td>25.240196</td>\n",
       "      <td>30.769608</td>\n",
       "    </tr>\n",
       "    <tr>\n",
       "      <th>std</th>\n",
       "      <td>1.239035</td>\n",
       "      <td>5.994144</td>\n",
       "      <td>12.362123</td>\n",
       "      <td>2.146716</td>\n",
       "      <td>2.424901</td>\n",
       "      <td>521.960820</td>\n",
       "      <td>41.744569</td>\n",
       "      <td>3.981000</td>\n",
       "      <td>6.551513</td>\n",
       "      <td>6.898337</td>\n",
       "    </tr>\n",
       "    <tr>\n",
       "      <th>min</th>\n",
       "      <td>-2.000000</td>\n",
       "      <td>86.600000</td>\n",
       "      <td>141.100000</td>\n",
       "      <td>60.300000</td>\n",
       "      <td>47.800000</td>\n",
       "      <td>1488.000000</td>\n",
       "      <td>61.000000</td>\n",
       "      <td>7.000000</td>\n",
       "      <td>13.000000</td>\n",
       "      <td>16.000000</td>\n",
       "    </tr>\n",
       "    <tr>\n",
       "      <th>25%</th>\n",
       "      <td>0.000000</td>\n",
       "      <td>94.500000</td>\n",
       "      <td>166.300000</td>\n",
       "      <td>64.075000</td>\n",
       "      <td>52.000000</td>\n",
       "      <td>2145.000000</td>\n",
       "      <td>97.000000</td>\n",
       "      <td>8.575000</td>\n",
       "      <td>19.000000</td>\n",
       "      <td>25.000000</td>\n",
       "    </tr>\n",
       "    <tr>\n",
       "      <th>50%</th>\n",
       "      <td>1.000000</td>\n",
       "      <td>97.000000</td>\n",
       "      <td>173.200000</td>\n",
       "      <td>65.500000</td>\n",
       "      <td>54.100000</td>\n",
       "      <td>2414.000000</td>\n",
       "      <td>119.500000</td>\n",
       "      <td>9.000000</td>\n",
       "      <td>24.000000</td>\n",
       "      <td>30.000000</td>\n",
       "    </tr>\n",
       "    <tr>\n",
       "      <th>75%</th>\n",
       "      <td>2.000000</td>\n",
       "      <td>102.400000</td>\n",
       "      <td>183.200000</td>\n",
       "      <td>66.900000</td>\n",
       "      <td>55.500000</td>\n",
       "      <td>2939.250000</td>\n",
       "      <td>142.000000</td>\n",
       "      <td>9.400000</td>\n",
       "      <td>30.000000</td>\n",
       "      <td>34.500000</td>\n",
       "    </tr>\n",
       "    <tr>\n",
       "      <th>max</th>\n",
       "      <td>3.000000</td>\n",
       "      <td>120.900000</td>\n",
       "      <td>208.100000</td>\n",
       "      <td>72.300000</td>\n",
       "      <td>59.800000</td>\n",
       "      <td>4066.000000</td>\n",
       "      <td>326.000000</td>\n",
       "      <td>23.000000</td>\n",
       "      <td>49.000000</td>\n",
       "      <td>54.000000</td>\n",
       "    </tr>\n",
       "  </tbody>\n",
       "</table>\n",
       "</div>"
      ],
      "text/plain": [
       "        symboling  wheel-base  ...    city-mpg  highway-mpg\n",
       "count  204.000000  204.000000  ...  204.000000   204.000000\n",
       "mean     0.823529   98.806373  ...   25.240196    30.769608\n",
       "std      1.239035    5.994144  ...    6.551513     6.898337\n",
       "min     -2.000000   86.600000  ...   13.000000    16.000000\n",
       "25%      0.000000   94.500000  ...   19.000000    25.000000\n",
       "50%      1.000000   97.000000  ...   24.000000    30.000000\n",
       "75%      2.000000  102.400000  ...   30.000000    34.500000\n",
       "max      3.000000  120.900000  ...   49.000000    54.000000\n",
       "\n",
       "[8 rows x 10 columns]"
      ]
     },
     "execution_count": 24,
     "metadata": {},
     "output_type": "execute_result"
    }
   ],
   "source": [
    "df.describe()"
   ]
  },
  {
   "cell_type": "code",
   "execution_count": 25,
   "metadata": {
    "colab": {
     "base_uri": "https://localhost:8080/"
    },
    "id": "pHZ83HkdHYQc",
    "outputId": "c6336378-4634-4514-da2f-1983c2406d9f"
   },
   "outputs": [
    {
     "name": "stdout",
     "output_type": "stream",
     "text": [
      "<class 'pandas.core.frame.DataFrame'>\n",
      "RangeIndex: 204 entries, 0 to 203\n",
      "Data columns (total 26 columns):\n",
      " #   Column             Non-Null Count  Dtype  \n",
      "---  ------             --------------  -----  \n",
      " 0   symboling          204 non-null    int64  \n",
      " 1   normalized-losses  204 non-null    object \n",
      " 2   make               204 non-null    object \n",
      " 3   fuel-type          204 non-null    object \n",
      " 4   aspiration         204 non-null    object \n",
      " 5   num-of-doors       204 non-null    object \n",
      " 6   body-style         204 non-null    object \n",
      " 7   drive-wheels       204 non-null    object \n",
      " 8   engine-location    204 non-null    object \n",
      " 9   wheel-base         204 non-null    float64\n",
      " 10  length             204 non-null    float64\n",
      " 11  width              204 non-null    float64\n",
      " 12  height             204 non-null    float64\n",
      " 13  curb-weight        204 non-null    int64  \n",
      " 14  engine-type        204 non-null    object \n",
      " 15  num-of-cylinders   204 non-null    object \n",
      " 16  engine-size        204 non-null    int64  \n",
      " 17  fuel-system        204 non-null    object \n",
      " 18  bore               204 non-null    object \n",
      " 19  stroke             204 non-null    object \n",
      " 20  compression-ratio  204 non-null    float64\n",
      " 21  horsepower         204 non-null    object \n",
      " 22  peak-rpm           204 non-null    object \n",
      " 23  city-mpg           204 non-null    int64  \n",
      " 24  highway-mpg        204 non-null    int64  \n",
      " 25  price              204 non-null    object \n",
      "dtypes: float64(5), int64(5), object(16)\n",
      "memory usage: 41.6+ KB\n"
     ]
    }
   ],
   "source": [
    "df.info()"
   ]
  },
  {
   "cell_type": "code",
   "execution_count": 26,
   "metadata": {
    "colab": {
     "base_uri": "https://localhost:8080/"
    },
    "id": "XntidILYHr5y",
    "outputId": "799d1de7-719e-4084-a2b9-d10cbf9daec6"
   },
   "outputs": [
    {
     "data": {
      "text/plain": [
       "[['symboling', 6],\n",
       " ['normalized-losses', 52],\n",
       " ['make', 22],\n",
       " ['fuel-type', 2],\n",
       " ['aspiration', 2],\n",
       " ['num-of-doors', 3],\n",
       " ['body-style', 5],\n",
       " ['drive-wheels', 3],\n",
       " ['engine-location', 2],\n",
       " ['wheel-base', 53],\n",
       " ['length', 75],\n",
       " ['width', 44],\n",
       " ['height', 49],\n",
       " ['curb-weight', 171],\n",
       " ['engine-type', 7],\n",
       " ['num-of-cylinders', 7],\n",
       " ['engine-size', 44],\n",
       " ['fuel-system', 8],\n",
       " ['bore', 39],\n",
       " ['stroke', 37],\n",
       " ['compression-ratio', 32],\n",
       " ['horsepower', 60],\n",
       " ['peak-rpm', 24],\n",
       " ['city-mpg', 29],\n",
       " ['highway-mpg', 30],\n",
       " ['price', 186]]"
      ]
     },
     "execution_count": 26,
     "metadata": {},
     "output_type": "execute_result"
    }
   ],
   "source": [
    "#finding unique values from each features\n",
    "unique = []\n",
    "for col in df.columns:\n",
    "    unique.append([col, df[col].nunique()])  \n",
    "unique"
   ]
  },
  {
   "cell_type": "markdown",
   "metadata": {
    "id": "NOhy0UMHmtrJ"
   },
   "source": [
    "Data Cleaning"
   ]
  },
  {
   "cell_type": "code",
   "execution_count": 27,
   "metadata": {
    "colab": {
     "base_uri": "https://localhost:8080/"
    },
    "id": "GQ24JT17oLOo",
    "outputId": "50795703-8eaf-4ebf-ff44-af41249bc6be"
   },
   "outputs": [
    {
     "data": {
      "text/plain": [
       "array(['two', 'four', '?'], dtype=object)"
      ]
     },
     "execution_count": 27,
     "metadata": {},
     "output_type": "execute_result"
    }
   ],
   "source": [
    "#Checking unique values of num-of-doors feature\n",
    "df[\"num-of-doors\"].unique()"
   ]
  },
  {
   "cell_type": "code",
   "execution_count": 28,
   "metadata": {
    "colab": {
     "base_uri": "https://localhost:8080/"
    },
    "id": "lZVFgUPRoLRi",
    "outputId": "2740197a-030b-46b6-ff17-83e8b05f25b3"
   },
   "outputs": [
    {
     "data": {
      "text/plain": [
       "array(['four', 'six', 'five', 'three', 'twelve', 'two', 'eight'],\n",
       "      dtype=object)"
      ]
     },
     "execution_count": 28,
     "metadata": {},
     "output_type": "execute_result"
    }
   ],
   "source": [
    "#Checking unique values of num-of-cylinders feature\n",
    "df[\"num-of-cylinders\"].unique()"
   ]
  },
  {
   "cell_type": "code",
   "execution_count": 29,
   "metadata": {
    "id": "ILQVg4tVoLTe"
   },
   "outputs": [],
   "source": [
    "#replacing num-of-doors and num-of-cylinders to their numerial values\n",
    "replace_dic = {\"num-of-doors\" : {\"two\" : 2, \"four\": 4},\n",
    "               \"num-of-cylinders\": {\"two\" : 2,\"three\" : 3, \"four\" : 4, \"five\" : 5, \"six\" : 6, \"eight\" : 8, \"twelve\" : 12 }}\n",
    "df.replace(replace_dic, inplace=True)\n",
    "\n",
    "#Replacing all '?' to np.nan\n",
    "df.replace(to_replace = '?', value = np.nan, inplace = True)"
   ]
  },
  {
   "cell_type": "markdown",
   "metadata": {
    "id": "VL6ePPyTn9gb"
   },
   "source": [
    "Seperating Categorical and Continous Feature "
   ]
  },
  {
   "cell_type": "code",
   "execution_count": 30,
   "metadata": {
    "id": "Fnb9HlLYX0wj"
   },
   "outputs": [],
   "source": [
    "#Seperating Categorical and Numerical Feature \n",
    "categorical_feature = [\"make\", \"fuel-type\", \"aspiration\", \"body-style\", \"drive-wheels\", \"engine-location\", \"engine-type\", \n",
    "                       \"fuel-system\"]\n",
    "numerical_features = [col for col in list(df.columns) if col not in categorical_feature]"
   ]
  },
  {
   "cell_type": "markdown",
   "metadata": {
    "id": "-6iCy79zn2oT"
   },
   "source": [
    "Converting Data Types of Feature to Category and Float"
   ]
  },
  {
   "cell_type": "code",
   "execution_count": 31,
   "metadata": {
    "id": "dfPJrf0IX6Iq"
   },
   "outputs": [],
   "source": [
    "df[categorical_feature] = df[categorical_feature].astype(\"category\")\n",
    "df[numerical_features] = df[numerical_features].astype(float)"
   ]
  },
  {
   "cell_type": "code",
   "execution_count": 32,
   "metadata": {
    "colab": {
     "base_uri": "https://localhost:8080/"
    },
    "id": "XrKtQZGUI_IC",
    "outputId": "7f358c6b-360e-4bcf-d9c0-70487b00d82f"
   },
   "outputs": [
    {
     "data": {
      "text/plain": [
       "symboling             float64\n",
       "normalized-losses     float64\n",
       "make                 category\n",
       "fuel-type            category\n",
       "aspiration           category\n",
       "num-of-doors          float64\n",
       "body-style           category\n",
       "drive-wheels         category\n",
       "engine-location      category\n",
       "wheel-base            float64\n",
       "length                float64\n",
       "width                 float64\n",
       "height                float64\n",
       "curb-weight           float64\n",
       "engine-type          category\n",
       "num-of-cylinders      float64\n",
       "engine-size           float64\n",
       "fuel-system          category\n",
       "bore                  float64\n",
       "stroke                float64\n",
       "compression-ratio     float64\n",
       "horsepower            float64\n",
       "peak-rpm              float64\n",
       "city-mpg              float64\n",
       "highway-mpg           float64\n",
       "price                 float64\n",
       "dtype: object"
      ]
     },
     "execution_count": 32,
     "metadata": {},
     "output_type": "execute_result"
    }
   ],
   "source": [
    "df.dtypes"
   ]
  },
  {
   "cell_type": "markdown",
   "metadata": {
    "id": "2y3ss7tkn7lS"
   },
   "source": [
    "Droping row which have missing values and fill missing values of normalized-loss by mean of that row"
   ]
  },
  {
   "cell_type": "code",
   "execution_count": 33,
   "metadata": {
    "colab": {
     "base_uri": "https://localhost:8080/"
    },
    "id": "r4t-RBOgKPFJ",
    "outputId": "bd493c44-6b41-439d-eb3d-c2c040fa0d5a"
   },
   "outputs": [
    {
     "data": {
      "text/plain": [
       "symboling             0\n",
       "normalized-losses    40\n",
       "make                  0\n",
       "fuel-type             0\n",
       "aspiration            0\n",
       "num-of-doors          2\n",
       "body-style            0\n",
       "drive-wheels          0\n",
       "engine-location       0\n",
       "wheel-base            0\n",
       "length                0\n",
       "width                 0\n",
       "height                0\n",
       "curb-weight           0\n",
       "engine-type           0\n",
       "num-of-cylinders      0\n",
       "engine-size           0\n",
       "fuel-system           0\n",
       "bore                  4\n",
       "stroke                4\n",
       "compression-ratio     0\n",
       "horsepower            2\n",
       "peak-rpm              2\n",
       "city-mpg              0\n",
       "highway-mpg           0\n",
       "price                 4\n",
       "dtype: int64"
      ]
     },
     "execution_count": 33,
     "metadata": {},
     "output_type": "execute_result"
    }
   ],
   "source": [
    "#Finding null values in dataset\n",
    "df.isnull().sum()"
   ]
  },
  {
   "cell_type": "code",
   "execution_count": 34,
   "metadata": {
    "colab": {
     "base_uri": "https://localhost:8080/"
    },
    "id": "aE_5po8cX8WY",
    "outputId": "2061c310-4432-4f57-a2e7-7a392b3c6208"
   },
   "outputs": [
    {
     "data": {
      "text/plain": [
       "symboling            0\n",
       "normalized-losses    0\n",
       "make                 0\n",
       "fuel-type            0\n",
       "aspiration           0\n",
       "num-of-doors         0\n",
       "body-style           0\n",
       "drive-wheels         0\n",
       "engine-location      0\n",
       "wheel-base           0\n",
       "length               0\n",
       "width                0\n",
       "height               0\n",
       "curb-weight          0\n",
       "engine-type          0\n",
       "num-of-cylinders     0\n",
       "engine-size          0\n",
       "fuel-system          0\n",
       "bore                 0\n",
       "stroke               0\n",
       "compression-ratio    0\n",
       "horsepower           0\n",
       "peak-rpm             0\n",
       "city-mpg             0\n",
       "highway-mpg          0\n",
       "price                0\n",
       "dtype: int64"
      ]
     },
     "execution_count": 34,
     "metadata": {},
     "output_type": "execute_result"
    }
   ],
   "source": [
    "#droping null values from \"price\", \"num-of-doors\", \"bore\", \"stroke\", \"horsepower\", \"peak-rpm\" row wise\n",
    "df.dropna(subset=[\"price\", \"num-of-doors\", \"bore\", \"stroke\", \"horsepower\", \"peak-rpm\"], inplace=True)\n",
    "#Filling remaining null values  of normalized-losses feature with mean of that row\n",
    "df[\"normalized-losses\"].fillna(df[\"normalized-losses\"].mean(), inplace = True)\n",
    "#Checking for null values\n",
    "df.isnull().sum()"
   ]
  },
  {
   "cell_type": "markdown",
   "metadata": {
    "id": "I-PWOjhBoGa2"
   },
   "source": [
    "Feature Scalling Using Min-Max Scalar for all numerical feature except num-of-doors, num-of-cylinders and price"
   ]
  },
  {
   "cell_type": "code",
   "execution_count": 35,
   "metadata": {
    "id": "Xdf0qYobYAKp"
   },
   "outputs": [],
   "source": [
    "#Doing Min-Max scaling for all numerical feature except num-of-doors, num-of-cylinders and price\n",
    "for col in df.columns:\n",
    "    if df[col].dtype == \"float64\" and col not in [\"num-of-doors\", \"num-of-cylinders\", \"price\"]:\n",
    "        min_value = min(df[col])\n",
    "        max_value = max(df[col])\n",
    "        df[col] = (df[col] - min_value) / (max_value - min_value)"
   ]
  },
  {
   "cell_type": "markdown",
   "metadata": {
    "id": "pOwUzS-1oYbU"
   },
   "source": [
    "Label Endoing and One Hot Encoding"
   ]
  },
  {
   "cell_type": "code",
   "execution_count": 36,
   "metadata": {
    "id": "Yfupm04cYDOo"
   },
   "outputs": [],
   "source": [
    "#Converting all categorical feature into label encode\n",
    "for col in categorical_feature:\n",
    "    df[col] = df[col].cat.codes\n",
    "\n",
    "#Doing One Hot encoding on all categorical feature\n",
    "df = pd.get_dummies(df, columns=[\"make\", \"fuel-type\", \"aspiration\", \"body-style\", \"drive-wheels\", \"engine-location\", \"engine-type\", \"fuel-system\"], drop_first=True)"
   ]
  },
  {
   "cell_type": "markdown",
   "metadata": {
    "id": "a4w3LEj6o0i7"
   },
   "source": [
    "Finding most correlated feature "
   ]
  },
  {
   "cell_type": "code",
   "execution_count": 37,
   "metadata": {
    "colab": {
     "base_uri": "https://localhost:8080/"
    },
    "id": "tHL7SR7wYE1I",
    "outputId": "aa2cac67-0bef-4f41-c6e7-28c77a107e49"
   },
   "outputs": [
    {
     "name": "stdout",
     "output_type": "stream",
     "text": [
      "0.0028618236857489115 fuel-system_4\n",
      "0.0163626856655789 engine-type_4\n",
      "0.020000619376956855 fuel-system_7\n",
      "0.028794855829483143 make_10\n",
      "0.036621714490223514 body-style_4\n",
      "0.04288864683370949 engine-type_2\n",
      "0.04306141118269095 make_17\n",
      "0.04678867495845971 num-of-doors\n",
      "0.05539439949294604 make_6\n",
      "0.06287726367883954 fuel-system_6\n",
      "0.06720450234972758 make_13\n",
      "0.07453795482131077 compression-ratio\n",
      "0.08579407744824087 symboling\n",
      "0.09708209581655548 stroke\n",
      "0.10158602808099187 make_1\n",
      "0.1023476616241923 make_20\n",
      "0.10381888291686761 peak-rpm\n",
      "0.1095455050828675 make_8\n",
      "0.11333904262944332 make_3\n",
      "0.11404663534473748 make_12\n",
      "0.11551806817654159 fuel-type_1\n",
      "0.11551806817654162 fuel-system_3\n",
      "0.12794325268709886 make_14\n",
      "0.13365445308892465 normalized-losses\n",
      "0.13473340927702743 make_11\n",
      "0.1381523131166001 height\n",
      "0.1416155632345737 make_4\n",
      "0.1456525999974498 make_21\n",
      "0.15138396767026166 make_18\n",
      "0.15175388591827751 body-style_3\n",
      "0.16988384924571664 make_5\n",
      "0.18624422240691124 aspiration_1\n",
      "0.18786901703510012 make_19\n",
      "0.23005133153429036 body-style_1\n",
      "0.30409772291068443 body-style_2\n",
      "0.32668445770203564 make_15\n",
      "0.33084705055740893 make_2\n",
      "0.33087875482569923 engine-location_1\n",
      "0.3320001629606435 make_7\n",
      "0.34158477093987627 engine-type_3\n",
      "0.39360466339905176 engine-type_5\n",
      "0.5114421034197568 fuel-system_1\n",
      "0.5249050703095473 make_9\n",
      "0.5265384060557563 fuel-system_5\n",
      "0.5466014724133983 bore\n",
      "0.5895412406599175 wheel-base\n",
      "0.6057164572458568 drive-wheels_1\n",
      "0.6506388396529058 drive-wheels_2\n",
      "0.6963469466560781 length\n",
      "0.7073771362342054 city-mpg\n",
      "0.7196852678560198 highway-mpg\n",
      "0.7463928034181913 num-of-cylinders\n",
      "0.7561591671700225 width\n",
      "0.8125111557614212 horsepower\n",
      "0.8353741506902091 curb-weight\n",
      "0.8887786660054987 engine-size\n",
      "1.0 price\n"
     ]
    }
   ],
   "source": [
    "#Finding correlation matrix \n",
    "corr_matrix = df.corr()\n",
    "cor_feature = []\n",
    "\n",
    "#Storing all the correlation value of feature with price\n",
    "for col in corr_matrix.columns:\n",
    "    cor_feature.append( np.abs(corr_matrix [ \"price\" ] [ col ] )  )\n",
    "\n",
    "column = list(corr_matrix.columns)\n",
    "#Sorting the feature according to their corr coeficent\n",
    "corr_value, column = zip(*sorted(zip(cor_feature, column)))\n",
    "\n",
    "#Printing Corelation value of price with other feature in accending order\n",
    "for i, j in zip(column, corr_value):\n",
    "  print(j, i)"
   ]
  },
  {
   "cell_type": "code",
   "execution_count": 38,
   "metadata": {
    "colab": {
     "base_uri": "https://localhost:8080/"
    },
    "id": "lq0pFsVBlejP",
    "outputId": "eece3638-0ec3-42a2-89db-8cf951d099ff"
   },
   "outputs": [
    {
     "data": {
      "text/plain": [
       "['length',\n",
       " 'city-mpg',\n",
       " 'highway-mpg',\n",
       " 'num-of-cylinders',\n",
       " 'width',\n",
       " 'horsepower',\n",
       " 'curb-weight',\n",
       " 'engine-size',\n",
       " 'price']"
      ]
     },
     "execution_count": 38,
     "metadata": {},
     "output_type": "execute_result"
    }
   ],
   "source": [
    "#Taking only those feature which have correlation value higher tha 0.68 and lower than -0.68\n",
    "imp = []\n",
    "for i, j in zip(column, corr_value):\n",
    "  if j >= 0.68:\n",
    "    imp.append(i)\n",
    "imp"
   ]
  },
  {
   "cell_type": "code",
   "execution_count": 39,
   "metadata": {
    "colab": {
     "base_uri": "https://localhost:8080/"
    },
    "id": "TuReQr0Elel3",
    "outputId": "1e209c85-66ed-4067-a3f7-10330349cd29"
   },
   "outputs": [
    {
     "data": {
      "text/plain": [
       "(192, 9)"
      ]
     },
     "execution_count": 39,
     "metadata": {},
     "output_type": "execute_result"
    }
   ],
   "source": [
    "#changing the dataframe that contain only important feature\n",
    "df = df[imp]\n",
    "df.shape"
   ]
  },
  {
   "cell_type": "code",
   "execution_count": 40,
   "metadata": {
    "id": "_A9aSsKnCVYt"
   },
   "outputs": [],
   "source": [
    "#Droping these feature because these are affecting the accuracy of model after running for several time\n",
    "df = df.drop([\"city-mpg\", \"highway-mpg\"], axis=1)"
   ]
  },
  {
   "cell_type": "code",
   "execution_count": 41,
   "metadata": {
    "colab": {
     "base_uri": "https://localhost:8080/"
    },
    "id": "2egHSSIqyDg3",
    "outputId": "fb6f0bae-4e0b-49ae-ee8e-e1ed4dcfbd89"
   },
   "outputs": [
    {
     "data": {
      "text/plain": [
       "(192, 7)"
      ]
     },
     "execution_count": 41,
     "metadata": {},
     "output_type": "execute_result"
    }
   ],
   "source": [
    "df.shape"
   ]
  },
  {
   "cell_type": "markdown",
   "metadata": {
    "id": "512Z1DM6YOnD"
   },
   "source": [
    "Splitting dataset into Feature dataframe and Label dataframe\n"
   ]
  },
  {
   "cell_type": "code",
   "execution_count": 42,
   "metadata": {
    "id": "w6-86yg-YLUl"
   },
   "outputs": [],
   "source": [
    "X = df.drop([\"price\"], axis=1)\n",
    "Y = df[\"price\"]"
   ]
  },
  {
   "cell_type": "markdown",
   "metadata": {
    "id": "9IXsia9XseiK"
   },
   "source": [
    "Spliting into Training and Test set"
   ]
  },
  {
   "cell_type": "code",
   "execution_count": 43,
   "metadata": {
    "id": "pAxezOsWYUq6"
   },
   "outputs": [],
   "source": [
    "X_train = X.sample(frac = 0.8, random_state= 101)\n",
    "Y_train = Y[X_train.index]\n",
    "X_test = X.drop(X_train.index)\n",
    "Y_test = Y[X_test.index]"
   ]
  },
  {
   "cell_type": "markdown",
   "metadata": {
    "id": "JsrpI0VEsiZz"
   },
   "source": [
    "Spliting training set into actual_training and validation set"
   ]
  },
  {
   "cell_type": "code",
   "execution_count": 44,
   "metadata": {
    "id": "tcCVFotGq0q1"
   },
   "outputs": [],
   "source": [
    "X_actual_train = X_train.sample(frac = 0.8, random_state = 102)\n",
    "Y_actual_train = Y_train[X_actual_train.index]\n",
    "X_validation = X_train.drop(X_actual_train.index)\n",
    "Y_validation = Y_train[X_validation.index]"
   ]
  },
  {
   "cell_type": "code",
   "execution_count": 45,
   "metadata": {
    "colab": {
     "base_uri": "https://localhost:8080/"
    },
    "id": "cqzpoQKMYWFY",
    "outputId": "4ecffdde-f9e9-43e1-d326-88c910ccb778"
   },
   "outputs": [
    {
     "name": "stdout",
     "output_type": "stream",
     "text": [
      "Training set shape  -  X_train  :  (154, 6)  Y_train  :   (154,)\n",
      "Test set shape  -  X_test  :  (38, 6)  Y_test  :   (38,)\n",
      "Actual_train set shape  -  X_actual_train  :  (123, 6)  Y_actual_train  :   (123,)\n",
      "Validation set shape  -  X_validation  :  (31, 6)  Y_validation  :   (31,)\n"
     ]
    }
   ],
   "source": [
    "#Printing the shape of the splitted set\n",
    "print(\"Training set shape  -  X_train  : \", X_train.shape, \" Y_train  :  \", Y_train.shape)\n",
    "print(\"Test set shape  -  X_test  : \", X_test.shape, \" Y_test  :  \", Y_test.shape)\n",
    "print(\"Actual_train set shape  -  X_actual_train  : \", X_actual_train.shape, \" Y_actual_train  :  \", Y_actual_train.shape)\n",
    "print(\"Validation set shape  -  X_validation  : \", X_validation.shape, \" Y_validation  :  \", Y_validation.shape)"
   ]
  },
  {
   "cell_type": "markdown",
   "metadata": {
    "id": "awNzsLigYaFh"
   },
   "source": [
    "KNN Algorithm"
   ]
  },
  {
   "cell_type": "code",
   "execution_count": 46,
   "metadata": {
    "id": "tw3F6Q7nYXd4"
   },
   "outputs": [],
   "source": [
    "class KNNR():\n",
    "  #Constructor\n",
    "    def __init__(self, X, Y, k):\n",
    "        self.x = np.array(X)\n",
    "        self.y = np.array(Y)\n",
    "        self.k = k\n",
    "    \n",
    "    def predict(self, X_test):\n",
    "        X_test = np.array(X_test)\n",
    "        y = []\n",
    "        #Taking only one row at a time\n",
    "        for i in X_test:\n",
    "          #finding the distance of test point with all training oint\n",
    "            dis = lin.norm(self.x - i, axis = 1)\n",
    "            #Sorting that distance\n",
    "            l1, l2 = zip(*sorted(zip(dis, self.y)))\n",
    "            #Appending only the mean of k neirest neighbors\n",
    "            y.append(np.sum(l2[:self.k])/self.k) \n",
    "        return y\n",
    "        \n",
    "    def error(self, Y_pred, Y_test):\n",
    "        Y_pred = np.array(Y_pred)\n",
    "        Y_test = np.array(Y_test)\n",
    "        #Returing rmse \n",
    "        return lin.norm(Y_pred - Y_test)/np.sqrt(len(Y_pred))"
   ]
  },
  {
   "cell_type": "markdown",
   "metadata": {
    "id": "8sqNzEQl_QKk"
   },
   "source": [
    "1.a Train a k-nearest neighbors regression model, and report its validation set performance using root mean squared error."
   ]
  },
  {
   "cell_type": "code",
   "execution_count": 47,
   "metadata": {
    "colab": {
     "base_uri": "https://localhost:8080/"
    },
    "id": "qaAfdQ8hYcP4",
    "outputId": "13a4b22a-aad6-4d31-f92c-94fd01455322"
   },
   "outputs": [
    {
     "data": {
      "text/plain": [
       "2140.7518218848318"
      ]
     },
     "execution_count": 47,
     "metadata": {},
     "output_type": "execute_result"
    }
   ],
   "source": [
    "obj = KNNR(X_actual_train, Y_actual_train, 2)\n",
    "ypred = obj.predict(X_validation)\n",
    "obj.error(Y_validation, ypred)"
   ]
  },
  {
   "cell_type": "markdown",
   "metadata": {
    "id": "qogfIL79YuhM"
   },
   "source": [
    "Finding the best K using 10 fold Cross-Validation"
   ]
  },
  {
   "cell_type": "markdown",
   "metadata": {
    "id": "wrZNyvRH_b1E"
   },
   "source": [
    "1.b  Find an optimal k for this model using cross-validation"
   ]
  },
  {
   "cell_type": "code",
   "execution_count": 48,
   "metadata": {
    "id": "HH7N2PyRYhgp"
   },
   "outputs": [],
   "source": [
    "def find_the_best_K(X, Y):\n",
    "    #this list will contain all rmse error of all k over all validation set\n",
    "    avg_rmse = []\n",
    "    #random_state this list will help in choosing diffrent sample every time for spliting actual train data and validation data\n",
    "    random_state = list(range(101, 111))\n",
    "    #Value of k cahnge from 1 to 10\n",
    "    for k in range(1, 10):\n",
    "        #print(\"k = \", k)\n",
    "        rmse = []\n",
    "        #this loop is for 10 fold cross validaition\n",
    "        for split in range(10):\n",
    "            #print(\"Split == \", split)\n",
    "            #making actual train set and validation set\n",
    "            X_train = X.sample(frac = 0.8, random_state= random_state[split])\n",
    "            Y_train = Y[X_train.index]\n",
    "            X_test = X.drop(X_train.index)\n",
    "            Y_test = Y[X_test.index]\n",
    "            #fitting the actural training set\n",
    "            obj = KNNR(X_train, Y_train, k)\n",
    "            #Prediction values on validations set\n",
    "            pred = obj.predict(X_test)\n",
    "            #finding rmse value for each validation set\n",
    "            rmse.append(obj.error(Y_test, pred))\n",
    "         \n",
    "        avg_rmse.append(rmse)\n",
    "        #calculating the best value of k which has minimum rmse \n",
    "        best_k = np.argmin(np.sum(avg_rmse, axis = 1)/10) + 1\n",
    "        \n",
    "    return avg_rmse, best_k"
   ]
  },
  {
   "cell_type": "code",
   "execution_count": 49,
   "metadata": {
    "id": "vxNqHVlqYtoY"
   },
   "outputs": [],
   "source": [
    "mse, best_k = find_the_best_K(X_train, Y_train)"
   ]
  },
  {
   "cell_type": "code",
   "execution_count": 50,
   "metadata": {
    "colab": {
     "base_uri": "https://localhost:8080/"
    },
    "id": "tpfY9IHEY21Y",
    "outputId": "43c587fa-1b7c-428b-ed4c-6dba0508e633"
   },
   "outputs": [
    {
     "name": "stdout",
     "output_type": "stream",
     "text": [
      "Optimal value of for this model =  2\n"
     ]
    }
   ],
   "source": [
    "print(\"Optimal value of for this model = \", best_k)"
   ]
  },
  {
   "cell_type": "code",
   "execution_count": 51,
   "metadata": {
    "id": "AuYteU392IrW"
   },
   "outputs": [],
   "source": [
    "min_rmse = np.mean(mse[best_k - 1])"
   ]
  },
  {
   "cell_type": "code",
   "execution_count": 52,
   "metadata": {
    "colab": {
     "base_uri": "https://localhost:8080/",
     "height": 295
    },
    "id": "N9kwiSt_Y4WI",
    "outputId": "1c802c6e-809e-457d-95ea-ea8cad919c34"
   },
   "outputs": [
    {
     "data": {
      "image/png": "[encoded data removed]",
      "text/plain": [
       "<Figure size 432x288 with 1 Axes>"
      ]
     },
     "metadata": {
      "needs_background": "light"
     },
     "output_type": "display_data"
    }
   ],
   "source": [
    "#ploting the graph for 10 fold cross validation\n",
    "average_mse = list(np.sum(mse, axis=1)/10)\n",
    "k = list(range(1, 10))\n",
    "plt.plot(k, average_mse)\n",
    "plt.scatter(best_k, min_rmse, c ='r')\n",
    "plt.xlabel(\"Number of Neighbors\")\n",
    "plt.ylabel(\"Root mean square error\")\n",
    "plt.title(\"Average RMSE value for k \")\n",
    "plt.show()"
   ]
  },
  {
   "cell_type": "markdown",
   "metadata": {},
   "source": [
    "**Explanation**\n",
    "\n",
    "It is clearly seen from the plot the min value of rmse come when value of k is equal to 2\n",
    "<br>\n",
    "On increaing the value of rmse also increase"
   ]
  },
  {
   "cell_type": "markdown",
   "metadata": {
    "id": "srQk1yodzO5P"
   },
   "source": [
    "Finding Test Set RMSE using best K"
   ]
  },
  {
   "cell_type": "code",
   "execution_count": 53,
   "metadata": {
    "colab": {
     "base_uri": "https://localhost:8080/"
    },
    "id": "dO8cENJdwntW",
    "outputId": "e6de3335-00a0-44bf-ea88-cd0322481254"
   },
   "outputs": [
    {
     "data": {
      "text/plain": [
       "2342.754625828771"
      ]
     },
     "execution_count": 53,
     "metadata": {},
     "output_type": "execute_result"
    }
   ],
   "source": [
    "obj = KNNR(X_train, Y_train, 2)\n",
    "Y_pred = obj.predict(X_test)\n",
    "obj.error(Y_pred, Y_test)"
   ]
  },
  {
   "cell_type": "markdown",
   "metadata": {
    "id": "CeXj5Fo8jXov"
   },
   "source": []
  },
  {
   "cell_type": "markdown",
   "metadata": {
    "id": "lZJj4DVzZMlc"
   },
   "source": [
    "# Question 2 : Decision Tree"
   ]
  },
  {
   "cell_type": "markdown",
   "metadata": {
    "id": "MfVBYqmotFJS"
   },
   "source": [
    "Importing datset "
   ]
  },
  {
   "cell_type": "code",
   "execution_count": 36,
   "metadata": {
    "colab": {
     "base_uri": "https://localhost:8080/"
    },
    "id": "-q_XNpoFZQqa",
    "outputId": "8d0444c5-1ade-4bd3-edb6-b8b49c132697"
   },
   "outputs": [
    {
     "name": "stdout",
     "output_type": "stream",
     "text": [
      "| This data was extracted from the census bureau database found at\n",
      "| http://www.census.gov/ftp/pub/DES/www/welcome.html\n",
      "| Donor: Ronny Kohavi and Barry Becker,\n",
      "|        Data Mining and Visualization\n",
      "|        Silicon Graphics.\n",
      "|        e-mail: ronnyk@sgi.com for questions.\n",
      "| Split into train-test using MLC++ GenCVFiles (2/3, 1/3 random).\n",
      "| 48842 instances, mix of continuous and discrete    (train=32561, test=16281)\n",
      "| 45222 if instances with unknown values are removed (train=30162, test=15060)\n",
      "| Duplicate or conflicting instances : 6\n",
      "| Class probabilities for adult.all file\n",
      "| Probability for the label '>50K'  : 23.93% / 24.78% (without unknowns)\n",
      "| Probability for the label '<=50K' : 76.07% / 75.22% (without unknowns)\n",
      "|\n",
      "| Extraction was done by Barry Becker from the 1994 Census database.  A set of\n",
      "|   reasonably clean records was extracted using the following conditions:\n",
      "|   ((AAGE>16) && (AGI>100) && (AFNLWGT>1)&& (HRSWK>0))\n",
      "|\n",
      "| Prediction task is to determine whether a person makes over 50K\n",
      "| a year.\n",
      "|\n",
      "| First cited in:\n",
      "| @inproceedings{kohavi-nbtree,\n",
      "|    author={Ron Kohavi},\n",
      "|    title={Scaling Up the Accuracy of Naive-Bayes Classifiers: a\n",
      "|           Decision-Tree Hybrid},\n",
      "|    booktitle={Proceedings of the Second International Conference on\n",
      "|               Knowledge Discovery and Data Mining},\n",
      "|    year = 1996,\n",
      "|    pages={to appear}}\n",
      "|\n",
      "| Error Accuracy reported as follows, after removal of unknowns from\n",
      "|    train/test sets):\n",
      "|    C4.5       : 84.46+-0.30\n",
      "|    Naive-Bayes: 83.88+-0.30\n",
      "|    NBTree     : 85.90+-0.28\n",
      "|\n",
      "|\n",
      "| Following algorithms were later run with the following error rates,\n",
      "|    all after removal of unknowns and using the original train/test split.\n",
      "|    All these numbers are straight runs using MLC++ with default values.\n",
      "|\n",
      "|    Algorithm               Error\n",
      "| -- ----------------        -----\n",
      "| 1  C4.5                    15.54\n",
      "| 2  C4.5-auto               14.46\n",
      "| 3  C4.5 rules              14.94\n",
      "| 4  Voted ID3 (0.6)         15.64\n",
      "| 5  Voted ID3 (0.8)         16.47\n",
      "| 6  T2                      16.84\n",
      "| 7  1R                      19.54\n",
      "| 8  NBTree                  14.10\n",
      "| 9  CN2                     16.00\n",
      "| 10 HOODG                   14.82\n",
      "| 11 FSS Naive Bayes         14.05\n",
      "| 12 IDTM (Decision table)   14.46\n",
      "| 13 Naive-Bayes             16.12\n",
      "| 14 Nearest-neighbor (1)    21.42\n",
      "| 15 Nearest-neighbor (3)    20.35\n",
      "| 16 OC1                     15.04\n",
      "| 17 Pebls                   Crashed.  Unknown why (bounds WERE increased)\n",
      "|\n",
      "| Conversion of original data as follows:\n",
      "| 1. Discretized agrossincome into two ranges with threshold 50,000.\n",
      "| 2. Convert U.S. to US to avoid periods.\n",
      "| 3. Convert Unknown to \"?\"\n",
      "| 4. Run MLC++ GenCVFiles to generate data,test.\n",
      "|\n",
      "| Description of fnlwgt (final weight)\n",
      "|\n",
      "| The weights on the CPS files are controlled to independent estimates of the\n",
      "| civilian noninstitutional population of the US.  These are prepared monthly\n",
      "| for us by Population Division here at the Census Bureau.  We use 3 sets of\n",
      "| controls.\n",
      "|  These are:\n",
      "|          1.  A single cell estimate of the population 16+ for each state.\n",
      "|          2.  Controls for Hispanic Origin by age and sex.\n",
      "|          3.  Controls by Race, age and sex.\n",
      "|\n",
      "| We use all three sets of controls in our weighting program and \"rake\" through\n",
      "| them 6 times so that by the end we come back to all the controls we used.\n",
      "|\n",
      "| The term estimate refers to population totals derived from CPS by creating\n",
      "| \"weighted tallies\" of any specified socio-economic characteristics of the\n",
      "| population.\n",
      "|\n",
      "| People with similar demographic characteristics should have\n",
      "| similar weights.  There is one important caveat to remember\n",
      "| about this statement.  That is that since the CPS sample is\n",
      "| actually a collection of 51 state samples, each with its own\n",
      "| probability of selection, the statement only applies within\n",
      "| state.\n",
      "\n",
      "\n",
      ">50K, <=50K.\n",
      "\n",
      "age: continuous.\n",
      "workclass: Private, Self-emp-not-inc, Self-emp-inc, Federal-gov, Local-gov, State-gov, Without-pay, Never-worked.\n",
      "fnlwgt: continuous.\n",
      "education: Bachelors, Some-college, 11th, HS-grad, Prof-school, Assoc-acdm, Assoc-voc, 9th, 7th-8th, 12th, Masters, 1st-4th, 10th, Doctorate, 5th-6th, Preschool.\n",
      "education-num: continuous.\n",
      "marital-status: Married-civ-spouse, Divorced, Never-married, Separated, Widowed, Married-spouse-absent, Married-AF-spouse.\n",
      "occupation: Tech-support, Craft-repair, Other-service, Sales, Exec-managerial, Prof-specialty, Handlers-cleaners, Machine-op-inspct, Adm-clerical, Farming-fishing, Transport-moving, Priv-house-serv, Protective-serv, Armed-Forces.\n",
      "relationship: Wife, Own-child, Husband, Not-in-family, Other-relative, Unmarried.\n",
      "race: White, Asian-Pac-Islander, Amer-Indian-Eskimo, Other, Black.\n",
      "sex: Female, Male.\n",
      "capital-gain: continuous.\n",
      "capital-loss: continuous.\n",
      "hours-per-week: continuous.\n",
      "native-country: United-States, Cambodia, England, Puerto-Rico, Canada, Germany, Outlying-US(Guam-USVI-etc), India, Japan, Greece, South, China, Cuba, Iran, Honduras, Philippines, Italy, Poland, Jamaica, Vietnam, Mexico, Portugal, Ireland, France, Dominican-Republic, Laos, Ecuador, Taiwan, Haiti, Columbia, Hungary, Guatemala, Nicaragua, Scotland, Thailand, Yugoslavia, El-Salvador, Trinadad&Tobago, Peru, Hong, Holand-Netherlands.\n",
      "\n"
     ]
    }
   ],
   "source": [
    "with open(\"drive/MyDrive/Assignment 1/Dataset/adult.names\") as f:\n",
    "    print(f.read())"
   ]
  },
  {
   "cell_type": "code",
   "execution_count": 37,
   "metadata": {
    "colab": {
     "base_uri": "https://localhost:8080/",
     "height": 306
    },
    "id": "dw6xc1-8ZUFp",
    "outputId": "ed9b22e8-99fd-4a11-8d20-df49c8c6b32b"
   },
   "outputs": [
    {
     "data": {
      "text/html": [
       "<div>\n",
       "<style scoped>\n",
       "    .dataframe tbody tr th:only-of-type {\n",
       "        vertical-align: middle;\n",
       "    }\n",
       "\n",
       "    .dataframe tbody tr th {\n",
       "        vertical-align: top;\n",
       "    }\n",
       "\n",
       "    .dataframe thead th {\n",
       "        text-align: right;\n",
       "    }\n",
       "</style>\n",
       "<table border=\"1\" class=\"dataframe\">\n",
       "  <thead>\n",
       "    <tr style=\"text-align: right;\">\n",
       "      <th></th>\n",
       "      <th>age</th>\n",
       "      <th>workclass</th>\n",
       "      <th>fnlwgt</th>\n",
       "      <th>education</th>\n",
       "      <th>education-num</th>\n",
       "      <th>marital-status</th>\n",
       "      <th>occupation</th>\n",
       "      <th>relationship</th>\n",
       "      <th>race</th>\n",
       "      <th>sex</th>\n",
       "      <th>capital-gain</th>\n",
       "      <th>capital-loss</th>\n",
       "      <th>hours-per-week</th>\n",
       "      <th>native-country</th>\n",
       "      <th>gross-income</th>\n",
       "    </tr>\n",
       "  </thead>\n",
       "  <tbody>\n",
       "    <tr>\n",
       "      <th>0</th>\n",
       "      <td>50</td>\n",
       "      <td>Self-emp-not-inc</td>\n",
       "      <td>83311</td>\n",
       "      <td>Bachelors</td>\n",
       "      <td>13</td>\n",
       "      <td>Married-civ-spouse</td>\n",
       "      <td>Exec-managerial</td>\n",
       "      <td>Husband</td>\n",
       "      <td>White</td>\n",
       "      <td>Male</td>\n",
       "      <td>0</td>\n",
       "      <td>0</td>\n",
       "      <td>13</td>\n",
       "      <td>United-States</td>\n",
       "      <td>&lt;=50K</td>\n",
       "    </tr>\n",
       "    <tr>\n",
       "      <th>1</th>\n",
       "      <td>38</td>\n",
       "      <td>Private</td>\n",
       "      <td>215646</td>\n",
       "      <td>HS-grad</td>\n",
       "      <td>9</td>\n",
       "      <td>Divorced</td>\n",
       "      <td>Handlers-cleaners</td>\n",
       "      <td>Not-in-family</td>\n",
       "      <td>White</td>\n",
       "      <td>Male</td>\n",
       "      <td>0</td>\n",
       "      <td>0</td>\n",
       "      <td>40</td>\n",
       "      <td>United-States</td>\n",
       "      <td>&lt;=50K</td>\n",
       "    </tr>\n",
       "    <tr>\n",
       "      <th>2</th>\n",
       "      <td>53</td>\n",
       "      <td>Private</td>\n",
       "      <td>234721</td>\n",
       "      <td>11th</td>\n",
       "      <td>7</td>\n",
       "      <td>Married-civ-spouse</td>\n",
       "      <td>Handlers-cleaners</td>\n",
       "      <td>Husband</td>\n",
       "      <td>Black</td>\n",
       "      <td>Male</td>\n",
       "      <td>0</td>\n",
       "      <td>0</td>\n",
       "      <td>40</td>\n",
       "      <td>United-States</td>\n",
       "      <td>&lt;=50K</td>\n",
       "    </tr>\n",
       "    <tr>\n",
       "      <th>3</th>\n",
       "      <td>28</td>\n",
       "      <td>Private</td>\n",
       "      <td>338409</td>\n",
       "      <td>Bachelors</td>\n",
       "      <td>13</td>\n",
       "      <td>Married-civ-spouse</td>\n",
       "      <td>Prof-specialty</td>\n",
       "      <td>Wife</td>\n",
       "      <td>Black</td>\n",
       "      <td>Female</td>\n",
       "      <td>0</td>\n",
       "      <td>0</td>\n",
       "      <td>40</td>\n",
       "      <td>Cuba</td>\n",
       "      <td>&lt;=50K</td>\n",
       "    </tr>\n",
       "    <tr>\n",
       "      <th>4</th>\n",
       "      <td>37</td>\n",
       "      <td>Private</td>\n",
       "      <td>284582</td>\n",
       "      <td>Masters</td>\n",
       "      <td>14</td>\n",
       "      <td>Married-civ-spouse</td>\n",
       "      <td>Exec-managerial</td>\n",
       "      <td>Wife</td>\n",
       "      <td>White</td>\n",
       "      <td>Female</td>\n",
       "      <td>0</td>\n",
       "      <td>0</td>\n",
       "      <td>40</td>\n",
       "      <td>United-States</td>\n",
       "      <td>&lt;=50K</td>\n",
       "    </tr>\n",
       "  </tbody>\n",
       "</table>\n",
       "</div>"
      ],
      "text/plain": [
       "   age          workclass  fnlwgt  ... hours-per-week  native-country gross-income\n",
       "0   50   Self-emp-not-inc   83311  ...             13   United-States        <=50K\n",
       "1   38            Private  215646  ...             40   United-States        <=50K\n",
       "2   53            Private  234721  ...             40   United-States        <=50K\n",
       "3   28            Private  338409  ...             40            Cuba        <=50K\n",
       "4   37            Private  284582  ...             40   United-States        <=50K\n",
       "\n",
       "[5 rows x 15 columns]"
      ]
     },
     "execution_count": 37,
     "metadata": {},
     "output_type": "execute_result"
    }
   ],
   "source": [
    "data = pd.read_csv(\"drive/MyDrive/Assignment 1/Dataset/adult.data\")\n",
    "columns =  [\"age\", \"workclass\", \"fnlwgt\", \"education\", \"education-num\", \"marital-status\", \"occupation\",  \"relationship\", \"race\", \n",
    "                \"sex\", \"capital-gain\", \"capital-loss\", \"hours-per-week\", \"native-country\", \"gross-income\"]\n",
    "data.columns = columns\n",
    "data.to_csv(\"drive/MyDrive/Assignment 1/Dataset/adult.csv\", index = None, header = True)\n",
    "df = pd.read_csv(\"drive/MyDrive/Assignment 1/Dataset/adult.csv\")\n",
    "df.head()"
   ]
  },
  {
   "cell_type": "code",
   "execution_count": 38,
   "metadata": {
    "colab": {
     "base_uri": "https://localhost:8080/"
    },
    "id": "OOkszsUQZc8I",
    "outputId": "1f314bd6-cc6e-46e9-90ce-24234cb0aeea"
   },
   "outputs": [
    {
     "data": {
      "text/plain": [
       "(32560, 15)"
      ]
     },
     "execution_count": 38,
     "metadata": {},
     "output_type": "execute_result"
    }
   ],
   "source": [
    "df.shape"
   ]
  },
  {
   "cell_type": "markdown",
   "metadata": {
    "id": "qkGt5KVitI_Q"
   },
   "source": [
    "Handling Missing Values"
   ]
  },
  {
   "cell_type": "code",
   "execution_count": 39,
   "metadata": {
    "colab": {
     "base_uri": "https://localhost:8080/"
    },
    "id": "EyblGGcZZnR4",
    "outputId": "6e062020-f7d3-4c3a-c6a4-19794b5fb0a5"
   },
   "outputs": [
    {
     "data": {
      "text/plain": [
       "age                  0\n",
       "workclass         1836\n",
       "fnlwgt               0\n",
       "education            0\n",
       "education-num        0\n",
       "marital-status       0\n",
       "occupation        1843\n",
       "relationship         0\n",
       "race                 0\n",
       "sex                  0\n",
       "capital-gain         0\n",
       "capital-loss         0\n",
       "hours-per-week       0\n",
       "native-country     583\n",
       "gross-income         0\n",
       "dtype: int64"
      ]
     },
     "execution_count": 39,
     "metadata": {},
     "output_type": "execute_result"
    }
   ],
   "source": [
    "#Replacing all '?' to np.nan value\n",
    "df.replace(to_replace=' ?', value = np.nan, inplace=True)\n",
    "#converting label to binary value for easy classification\n",
    "df.replace(to_replace=\" <=50K\",  value = 0, inplace=True)\n",
    "df.replace(to_replace=\" >50K\", value=1, inplace=True)\n",
    "#Checking for Null values\n",
    "df.isnull().sum()"
   ]
  },
  {
   "cell_type": "code",
   "execution_count": 40,
   "metadata": {
    "colab": {
     "base_uri": "https://localhost:8080/"
    },
    "id": "CpGx-vQqZpdI",
    "outputId": "2500b3e5-7d0d-46c8-b377-88803e947d19"
   },
   "outputs": [
    {
     "data": {
      "text/plain": [
       "age               0\n",
       "workclass         0\n",
       "fnlwgt            0\n",
       "education         0\n",
       "education-num     0\n",
       "marital-status    0\n",
       "occupation        0\n",
       "relationship      0\n",
       "race              0\n",
       "sex               0\n",
       "capital-gain      0\n",
       "capital-loss      0\n",
       "hours-per-week    0\n",
       "native-country    0\n",
       "gross-income      0\n",
       "dtype: int64"
      ]
     },
     "execution_count": 40,
     "metadata": {},
     "output_type": "execute_result"
    }
   ],
   "source": [
    "#Droping all the row which has null value\n",
    "df.dropna(axis=\"index\", inplace=True)\n",
    "#Checking for null value\n",
    "df.isnull().sum()"
   ]
  },
  {
   "cell_type": "code",
   "execution_count": 41,
   "metadata": {
    "colab": {
     "base_uri": "https://localhost:8080/"
    },
    "id": "bZNhumE2Zu2I",
    "outputId": "e12b6c41-40f2-4fdc-9b94-20fe5a4905d2"
   },
   "outputs": [
    {
     "data": {
      "text/plain": [
       "(30161, 15)"
      ]
     },
     "execution_count": 41,
     "metadata": {},
     "output_type": "execute_result"
    }
   ],
   "source": [
    "df.shape"
   ]
  },
  {
   "cell_type": "markdown",
   "metadata": {
    "id": "kYsZVjAStTzb"
   },
   "source": [
    "Seperating Categorical and Numerical Features and Converting it data types"
   ]
  },
  {
   "cell_type": "code",
   "execution_count": 42,
   "metadata": {
    "id": "Voa4kmOJZw5I"
   },
   "outputs": [],
   "source": [
    "#Seperating Categorical and Numerical Features \n",
    "categorical_features = [\"workclass\", \"education\", \"marital-status\", \"occupation\", \"relationship\", \"race\", \"sex\", \"native-country\"]\n",
    "numerical_features = [col for col in df.columns if col not in categorical_features]"
   ]
  },
  {
   "cell_type": "code",
   "execution_count": 43,
   "metadata": {
    "id": "YATK31D1Z0Zp"
   },
   "outputs": [],
   "source": [
    "#Converting the datatype of categorical features from object to category\n",
    "df[categorical_features] = df[categorical_features].astype(\"category\")"
   ]
  },
  {
   "cell_type": "markdown",
   "metadata": {
    "id": "4B4fTEovtjpC"
   },
   "source": [
    "Label encoding"
   ]
  },
  {
   "cell_type": "code",
   "execution_count": 44,
   "metadata": {
    "id": "AZWQKkeBZ1_I"
   },
   "outputs": [],
   "source": [
    "for col in categorical_features:\n",
    "    df[col] = df[col].cat.codes"
   ]
  },
  {
   "cell_type": "markdown",
   "metadata": {
    "id": "OzIJCNYbZ7fZ"
   },
   "source": [
    "Spliting Dataset into Features and labels"
   ]
  },
  {
   "cell_type": "code",
   "execution_count": 45,
   "metadata": {
    "id": "l7o5vU-cZ5OZ"
   },
   "outputs": [],
   "source": [
    "X = df.drop([\"gross-income\"], axis = 1)\n",
    "Y = df[\"gross-income\"]"
   ]
  },
  {
   "cell_type": "markdown",
   "metadata": {
    "id": "RxVCmM_QaTle"
   },
   "source": [
    "Creating training and test set"
   ]
  },
  {
   "cell_type": "code",
   "execution_count": 46,
   "metadata": {
    "id": "CCXpOOUPZ-Kp"
   },
   "outputs": [],
   "source": [
    "X_train = X.sample(frac = 0.8, random_state= 101)\n",
    "Y_train = Y[X_train.index]\n",
    "X_test = X.drop(X_train.index)\n",
    "Y_test = Y[X_test.index]"
   ]
  },
  {
   "cell_type": "markdown",
   "metadata": {
    "id": "ilO5uX1qaX3J"
   },
   "source": [
    "spliting training set into actual_train and validation set"
   ]
  },
  {
   "cell_type": "code",
   "execution_count": 47,
   "metadata": {
    "id": "nUOfwQCACwkp"
   },
   "outputs": [],
   "source": [
    "X_actual_train = X_train.sample(frac = 0.8, random_state = 102)\n",
    "Y_actual_train = Y_train[X_actual_train.index]\n",
    "X_validation = X_train.drop(X_actual_train.index)\n",
    "Y_validation = Y_train[X_validation.index]"
   ]
  },
  {
   "cell_type": "code",
   "execution_count": 48,
   "metadata": {
    "colab": {
     "base_uri": "https://localhost:8080/"
    },
    "id": "h2nm-hiyCwm9",
    "outputId": "72a691c3-099e-4356-9f8d-b3eff1b72b1b"
   },
   "outputs": [
    {
     "name": "stdout",
     "output_type": "stream",
     "text": [
      "Training set shape  -  X_train  :  (24129, 14)  Y_train  :   (24129,)\n",
      "Test set shape  -  X_test  :  (6032, 14)  Y_test  :   (6032,)\n",
      "Actual_train set shape  -  X_actual_train  :  (19303, 14)  Y_actual_train  :   (19303,)\n",
      "Validation set shape  -  X_validation  :  (4826, 14)  Y_validation  :   (4826,)\n"
     ]
    }
   ],
   "source": [
    "#Printing the size of all splitted set\n",
    "print(\"Training set shape  -  X_train  : \", X_train.shape, \" Y_train  :  \", Y_train.shape)\n",
    "print(\"Test set shape  -  X_test  : \", X_test.shape, \" Y_test  :  \", Y_test.shape)\n",
    "print(\"Actual_train set shape  -  X_actual_train  : \", X_actual_train.shape, \" Y_actual_train  :  \", Y_actual_train.shape)\n",
    "print(\"Validation set shape  -  X_validation  : \", X_validation.shape, \" Y_validation  :  \", Y_validation.shape)"
   ]
  },
  {
   "cell_type": "markdown",
   "metadata": {
    "id": "5j1CYbNSaAsr"
   },
   "source": [
    "**Decision Tree Algorithm**\n",
    "<br>\n",
    "\n",
    "I am taking refrence from profesor's code from Demo class "
   ]
  },
  {
   "cell_type": "code",
   "execution_count": 79,
   "metadata": {
    "id": "MoIpAvyYaAKJ"
   },
   "outputs": [],
   "source": [
    "class Node():\n",
    "    #Constructor\n",
    "    def __init__(self, depth = 0, parent = None, bestFeature = 0, thresold = 0):\n",
    "        self.parent = parent\n",
    "        self.left = None\n",
    "        self.right = None\n",
    "        self.leaf = None\n",
    "        self.bestFeature = bestFeature\n",
    "        self.thresold = thresold\n",
    "        self.label = None\n",
    "        self.depth = depth\n",
    "\n",
    "    def entropy(self, n , n1):\n",
    "      #Function for calculating entriopy Arguments = {Total size of y , total number of 1}\n",
    "      # n0 = number of zeros in y\n",
    "      n0 = n - n1\n",
    "      #returning the entropy for given values of y\n",
    "      return -((n1 / n) * np.log2(n1 / n) + (n0 / n)*np.log2(n0 / n))\n",
    "        \n",
    "    def information_gain(self, X, Y):\n",
    "      #This function is used for splitting node using information gain\n",
    "        \n",
    "        #n = number of sample in dataset X\n",
    "        n = X.shape[0]\n",
    "        \n",
    "        #calculating the entropy of current dataset\n",
    "        curent_entropy = self.entropy(n, sum(Y))\n",
    "\n",
    "        #Seting the best info gain negative infinity\n",
    "        bestIG = -float(\"inf\")\n",
    "\n",
    "        #Defingin bestcol and bestFeature variable\n",
    "        bestcol = 0\n",
    "        bestthresold = 0\n",
    "\n",
    "        #Loop for using all coll from datset for finding the best feature\n",
    "        for col in range(X.shape[1]):\n",
    "            \n",
    "            # This will help in not using the same feature again and again\n",
    "            if self.parent is not None and col == self.parent.bestFeature:\n",
    "                continue\n",
    "            \n",
    "            #Sorting the value of X and Y according to values of X\n",
    "            x_sorted = np.sort(X[:, col])\n",
    "            index = np.argsort(X[:, col])\n",
    "            ysorted = Y[index]\n",
    "            #x_sorted, ysorted = zip(*sorted(zip(X[:, col], Y)))\n",
    "\n",
    "            #calculation cummulative sum in forward and reverse direction for fast entropy calculation.\n",
    "            #This will only work if labels are 0 and 1\n",
    "            y_cum_for = np.cumsum(ysorted)\n",
    "            y_cum_rev = np.cumsum(ysorted[::-1])[::-1]\n",
    "            #step = int(len(x_sorted) / 1)\n",
    "\n",
    "            #This loop is finding for best thresold in each column by calculation informatio gain\n",
    "            for i in range(1, len(x_sorted) - 1):\n",
    "\n",
    "              #Thresold  = current value in x\n",
    "                thresold = x_sorted[i]\n",
    "                #calculation information gain \n",
    "                info_gain = curent_entropy - ((i + 1) / n) * self.entropy(i + 1, y_cum_for[i]) - ((n - i -1) / n) * self.entropy(n -i -1, y_cum_rev[i+1])\n",
    "                \n",
    "                #Checking for best info gain from all possible value from each feature and setting the amrk for best feature and thresold which has maximum inforamtion gain\n",
    "                if info_gain > bestIG:\n",
    "                    bestIG = info_gain\n",
    "                    bestcol = col\n",
    "                    bestthresold = thresold\n",
    "                              \n",
    "        return bestcol, bestthresold\n",
    "\n",
    "    \n",
    "    def build_tree(self, X, Y, min_sample, max_depth):\n",
    "\n",
    "        #This function is used for building tree\n",
    "\n",
    "        #For making leaf node if num of sample is below thresold node have reached the maximum height\n",
    "        if Y.size < min_sample or self.depth > max_depth:\n",
    "            self.leaf = True\n",
    "            self.label = 0 if np.mean(Y) < 0.5 else 1\n",
    "            \n",
    "        else:\n",
    "          #if node is not leaf \n",
    "            self.leaf = False\n",
    "            #Finding the bestfeature and bestthresold for current dataset\n",
    "            self.bestFeature, self.thresold = self.information_gain(X, Y)\n",
    "            #Making new Left node and right Node\n",
    "            self.left = Node(depth = self.depth + 1, parent = self)\n",
    "            self.right = Node(depth = self.depth + 1, parent = self)\n",
    "            \n",
    "            #Splitting the dataset into two parts\n",
    "            seperator = X[:, self.bestFeature] - self.thresold\n",
    "            #Caling the build tree funtion recursively for left and right subtree\n",
    "            self.left.build_tree(X[seperator <= 0, :], Y[seperator <= 0], min_sample, max_depth)\n",
    "            self.right.build_tree(X[seperator > 0, :], Y[seperator > 0], min_sample, max_depth)\n",
    "            \n",
    "    \n",
    "    \n",
    "    def predict(self, data):\n",
    "      #This function is used for finding the label for single data vector\n",
    "        if self.leaf:\n",
    "            return self.label\n",
    "        if data[self.bestFeature] > self.thresold:\n",
    "            return self.right.predict(data)\n",
    "        else:\n",
    "            return self.left.predict(data)\n",
    "    \n"
   ]
  },
  {
   "cell_type": "code",
   "execution_count": 80,
   "metadata": {
    "id": "IUxR20oDaKbZ"
   },
   "outputs": [],
   "source": [
    "class DesicionTree():\n",
    "    #this class is responsible for Decision tree classification\n",
    "    #Contructor\n",
    "    def __init__(self,X, Y, min_sample, max_depth):\n",
    "        self.root = Node()\n",
    "        self.X = np.array(X)\n",
    "        self.Y = np.array(Y)\n",
    "        self.min_sample = min_sample\n",
    "        self.max_depth = max_depth\n",
    "        \n",
    "        \n",
    "    def train(self):\n",
    "      #Function for buildng tree\n",
    "        self.root.build_tree(self.X, self.Y, self.min_sample, self.max_depth)\n",
    "        \n",
    "    def predict(self, X):\n",
    "      #Function for finding laebls for each vector from test dataset\n",
    "        y = []\n",
    "        for row in np.array(X):\n",
    "            y.append(self.root.predict(row))\n",
    "        return y\n",
    "    \n",
    "    def accuracy(self, y_test, ypred):\n",
    "      #This function is used for calculation the accuracy of original values and predicted values\n",
    "        l = []\n",
    "        for i, j in zip(y_test, ypred):\n",
    "            if i == j:\n",
    "                l.append(1)\n",
    "            else:\n",
    "                l.append(0)\n",
    "          #Returning the percentage accuracy\n",
    "        return sum(l) * 100 / len(l)"
   ]
  },
  {
   "cell_type": "markdown",
   "metadata": {
    "id": "jeYs4DKQai9I"
   },
   "source": [
    "2.a : Train a decision tree classification model using information gain as the splitting criterion and using only single feature decision stumps at all non-leaf nodes and majority votes at leaf nodes, and report its validation set performance using % accuracy"
   ]
  },
  {
   "cell_type": "code",
   "execution_count": 81,
   "metadata": {
    "colab": {
     "base_uri": "https://localhost:8080/"
    },
    "id": "fs_Kw2GdaMWp",
    "outputId": "2cdf044a-8ba5-4fed-eeef-8278f033c765"
   },
   "outputs": [
    {
     "name": "stderr",
     "output_type": "stream",
     "text": [
      "/usr/local/lib/python3.7/dist-packages/ipykernel_launcher.py:15: RuntimeWarning: divide by zero encountered in log2\n",
      "  from ipykernel import kernelapp as app\n",
      "/usr/local/lib/python3.7/dist-packages/ipykernel_launcher.py:15: RuntimeWarning: invalid value encountered in double_scalars\n",
      "  from ipykernel import kernelapp as app\n",
      "/usr/local/lib/python3.7/dist-packages/numpy/core/fromnumeric.py:3373: RuntimeWarning: Mean of empty slice.\n",
      "  out=out, **kwargs)\n",
      "/usr/local/lib/python3.7/dist-packages/numpy/core/_methods.py:170: RuntimeWarning: invalid value encountered in double_scalars\n",
      "  ret = ret.dtype.type(ret / rcount)\n"
     ]
    }
   ],
   "source": [
    "obj = DesicionTree(X_actual_train,Y_actual_train, 300, 7)\n",
    "obj.train()\n",
    "pred = obj.predict(X_validation)"
   ]
  },
  {
   "cell_type": "code",
   "execution_count": 82,
   "metadata": {
    "colab": {
     "base_uri": "https://localhost:8080/"
    },
    "id": "2Pli2MawG0Rh",
    "outputId": "55df9bba-22d1-412d-e20b-986d85658dbc"
   },
   "outputs": [
    {
     "name": "stdout",
     "output_type": "stream",
     "text": [
      "Validation set accuracy = 84.56%\n"
     ]
    }
   ],
   "source": [
    "print(\"Validation set accuracy = {0:0.2f}%\". format(obj.accuracy(pred, Y_validation)))"
   ]
  },
  {
   "cell_type": "markdown",
   "metadata": {
    "id": "gJetdeM9v0HY"
   },
   "source": [
    "Cross validation\n",
    "<br>\n",
    "2.b Use cross-validation to optimize the tree hyperparameters"
   ]
  },
  {
   "cell_type": "code",
   "execution_count": 62,
   "metadata": {
    "id": "5qXU-jgGv23Y"
   },
   "outputs": [],
   "source": [
    "def best_hyperparameter(X, Y):\n",
    "  avg_acc = []\n",
    "  #random_state this list will help in choosing diffrent sample every time for spliting actual train data and validation data\n",
    "  random_state = list(range(10, 1000, 100))\n",
    "  #Defineing the range for depth\n",
    "  depth = list(range(3, 13))\n",
    "  #Definening the range for max leaf size\n",
    "  maxleaf = list(range(100, 1001, 100))\n",
    "\n",
    "  #Loop for each value from depth\n",
    "  for d in depth:\n",
    "    print(\"depth = \",d)\n",
    "    #Loop for each value of maxleafsize\n",
    "    for ml in maxleaf:\n",
    "      acc = []\n",
    "      #This loop is for 4 fold cross validation\n",
    "      for k in range(4):\n",
    "        #Splitting the training data into actual train set and validation set\n",
    "        X_train = X.sample(frac = 0.7, random_state= random_state[k])\n",
    "        Y_train = Y[X_train.index]\n",
    "        X_test = X.drop(X_train.index)\n",
    "        Y_test = Y[X_test.index]\n",
    "        #training model on actual train set\n",
    "        obj = DesicionTree(X_train, Y_train, ml, d)\n",
    "        obj.train()\n",
    "        #prediction the values for Validation set\n",
    "        pred = obj.predict(X_test)\n",
    "        accuracy = obj.accuracy(pred, Y_test)\n",
    "        #appending the value of all accuracy over all values of depth and maxliafsize\n",
    "        acc.append(accuracy)\n",
    "      avg_acc.append([d, ml, acc])\n",
    "   #Returning the list containg all accuracy for particular depth and maxleafsize   \n",
    "  return avg_acc\n"
   ]
  },
  {
   "cell_type": "code",
   "execution_count": null,
   "metadata": {
    "colab": {
     "base_uri": "https://localhost:8080/"
    },
    "id": "8w8GU8Zv0QjX",
    "outputId": "2e87d7e7-b174-4d65-f1fd-3ca2506211fd"
   },
   "outputs": [
    {
     "name": "stdout",
     "output_type": "stream",
     "text": [
      "depth =  3\n"
     ]
    },
    {
     "name": "stderr",
     "output_type": "stream",
     "text": [
      "/usr/local/lib/python3.7/dist-packages/ipykernel_launcher.py:15: RuntimeWarning: divide by zero encountered in log2\n",
      "  from ipykernel import kernelapp as app\n",
      "/usr/local/lib/python3.7/dist-packages/ipykernel_launcher.py:15: RuntimeWarning: invalid value encountered in double_scalars\n",
      "  from ipykernel import kernelapp as app\n",
      "/usr/local/lib/python3.7/dist-packages/numpy/core/fromnumeric.py:3373: RuntimeWarning: Mean of empty slice.\n",
      "  out=out, **kwargs)\n",
      "/usr/local/lib/python3.7/dist-packages/numpy/core/_methods.py:170: RuntimeWarning: invalid value encountered in double_scalars\n",
      "  ret = ret.dtype.type(ret / rcount)\n"
     ]
    },
    {
     "name": "stdout",
     "output_type": "stream",
     "text": [
      "depth =  4\n",
      "depth =  5\n",
      "depth =  6\n",
      "depth =  7\n",
      "depth =  8\n",
      "depth =  9\n",
      "depth =  10\n",
      "depth =  11\n",
      "depth =  12\n"
     ]
    }
   ],
   "source": [
    "avg_acc = best_hyperparameter(X_train, Y_train)"
   ]
  },
  {
   "cell_type": "code",
   "execution_count": null,
   "metadata": {
    "colab": {
     "base_uri": "https://localhost:8080/"
    },
    "id": "HNIOpNCB0aKH",
    "outputId": "c9bad17d-9334-4dee-d9f7-28b46a2b7c13"
   },
   "outputs": [
    {
     "data": {
      "text/plain": [
       "[[83.65451029147673, 3, 800],\n",
       " [83.65451029147673, 3, 900],\n",
       " [83.65451029147673, 3, 1000],\n",
       " [83.74775521480868, 4, 800],\n",
       " [83.74775521480868, 4, 900],\n",
       " [83.74775521480868, 4, 1000],\n",
       " [84.0033153750518, 3, 700],\n",
       " [84.04130404752038, 11, 800],\n",
       " [84.04130404752038, 12, 800],\n",
       " [84.04821107887831, 10, 800],\n",
       " [84.06202514159415, 9, 800],\n",
       " [84.0654786572731, 8, 800],\n",
       " [84.0654786572731, 9, 900],\n",
       " [84.0654786572731, 10, 900],\n",
       " [84.0654786572731, 11, 900],\n",
       " [84.0654786572731, 12, 900],\n",
       " [84.06893217295207, 8, 900],\n",
       " [84.08619975134687, 5, 800],\n",
       " [84.08965326702582, 5, 900],\n",
       " [84.08965326702582, 5, 1000],\n",
       " [84.08965326702584, 4, 700],\n",
       " [84.15527006492609, 3, 100],\n",
       " [84.15527006492609, 3, 200],\n",
       " [84.15527006492609, 3, 300],\n",
       " [84.15527006492609, 3, 400],\n",
       " [84.15527006492609, 3, 500],\n",
       " [84.15527006492609, 3, 600],\n",
       " [84.22088686282635, 6, 1000],\n",
       " [84.22434037850533, 6, 800],\n",
       " [84.22434037850533, 9, 1000],\n",
       " [84.22434037850533, 10, 1000],\n",
       " [84.22434037850533, 11, 1000],\n",
       " [84.22434037850533, 12, 1000],\n",
       " [84.22779389418429, 6, 900],\n",
       " [84.22779389418429, 7, 1000],\n",
       " [84.22779389418429, 8, 1000],\n",
       " [84.23124740986324, 7, 800],\n",
       " [84.2347009255422, 7, 900],\n",
       " [84.24160795690013, 4, 600],\n",
       " [84.35557397430584, 4, 100],\n",
       " [84.35557397430584, 4, 200],\n",
       " [84.35557397430584, 4, 300],\n",
       " [84.35557397430584, 4, 400],\n",
       " [84.35557397430584, 4, 500],\n",
       " [84.36248100566377, 11, 700],\n",
       " [84.36248100566377, 12, 700],\n",
       " [84.36938803702168, 10, 700],\n",
       " [84.38320209973753, 9, 700],\n",
       " [84.44536538195882, 5, 700],\n",
       " [84.46953999171156, 8, 700],\n",
       " [84.5282497582539, 11, 600],\n",
       " [84.5282497582539, 12, 600],\n",
       " [84.53515678961182, 10, 600],\n",
       " [84.54897085232767, 9, 600],\n",
       " [84.61804116590689, 10, 200],\n",
       " [84.62494819726481, 9, 200],\n",
       " [84.62840171294377, 8, 600],\n",
       " [84.63185522862274, 5, 600],\n",
       " [84.6353087443017, 6, 700],\n",
       " [84.6353087443017, 7, 700],\n",
       " [84.64221577565962, 9, 300],\n",
       " [84.64566929133858, 10, 300],\n",
       " [84.64566929133858, 11, 500],\n",
       " [84.64566929133858, 12, 500],\n",
       " [84.64912280701755, 9, 400],\n",
       " [84.6525763226965, 10, 400],\n",
       " [84.6525763226965, 10, 500],\n",
       " [84.66293686973339, 9, 500],\n",
       " [84.66293686973339, 10, 100],\n",
       " [84.67329741677027, 12, 400],\n",
       " [84.6802044481282, 11, 400],\n",
       " [84.72164663627572, 8, 300],\n",
       " [84.72510015195469, 11, 200],\n",
       " [84.72855366763363, 8, 200],\n",
       " [84.72855366763365, 8, 400],\n",
       " [84.73200718331262, 5, 200],\n",
       " [84.73200718331262, 5, 300],\n",
       " [84.73200718331262, 5, 400],\n",
       " [84.73546069899159, 11, 100],\n",
       " [84.73891421467053, 5, 500],\n",
       " [84.74236773034949, 8, 500],\n",
       " [84.76308882442328, 9, 100],\n",
       " [84.78035640281807, 5, 100],\n",
       " [84.79071694985495, 7, 600],\n",
       " [84.79417046553391, 11, 300],\n",
       " [84.80107749689184, 12, 200],\n",
       " [84.80453101257079, 12, 100],\n",
       " [84.82525210664456, 12, 300],\n",
       " [84.82525210664457, 6, 600],\n",
       " [84.87014781047105, 7, 300],\n",
       " [84.8839618731869, 7, 400],\n",
       " [84.8839618731869, 8, 100],\n",
       " [84.89086890454482, 7, 200],\n",
       " [84.90468296726067, 7, 500],\n",
       " [84.92540406133445, 6, 300],\n",
       " [84.92540406133445, 6, 400],\n",
       " [84.93576460837133, 6, 500],\n",
       " [84.9461251554082, 6, 200],\n",
       " [84.96339273380302, 7, 100],\n",
       " [85.02555601602431, 6, 100]]"
      ]
     },
     "execution_count": 472,
     "metadata": {},
     "output_type": "execute_result"
    }
   ],
   "source": [
    "#sorting the list for finding the best depth and min leaf size\n",
    "acc = []\n",
    "for i in avg_acc:\n",
    "  acc.append([np.mean(i[2]), i[0], i[1]])\n",
    "acc = sorted(acc, key = lambda a:a[0])\n",
    "acc"
   ]
  },
  {
   "cell_type": "code",
   "execution_count": null,
   "metadata": {
    "id": "7JZUM9wJi8iu"
   },
   "outputs": [],
   "source": [
    "bestacc, bestdepth , bestleafsize = acc[-1]"
   ]
  },
  {
   "cell_type": "code",
   "execution_count": null,
   "metadata": {
    "colab": {
     "base_uri": "https://localhost:8080/"
    },
    "id": "AIRajVqsi8lO",
    "outputId": "3de89532-deec-458b-f015-78b517c0439f"
   },
   "outputs": [
    {
     "name": "stdout",
     "output_type": "stream",
     "text": [
      " Best Depth =   6\n",
      " Best leaf size =  100\n",
      " Best accuracy =  85.02555601602431\n"
     ]
    }
   ],
   "source": [
    "print(\" Best Depth =  \", bestdepth)\n",
    "print(\" Best leaf size = \", bestleafsize) \n",
    "print(\" Best accuracy = \", bestacc)"
   ]
  },
  {
   "cell_type": "code",
   "execution_count": 64,
   "metadata": {
    "id": "pk-MuSiQYdrx"
   },
   "outputs": [],
   "source": [
    " bestdepth =   6\n",
    " bestleafsize =  100"
   ]
  },
  {
   "cell_type": "markdown",
   "metadata": {
    "id": "ps0-pDFSxw4z"
   },
   "source": [
    "Using best parameters for test set"
   ]
  },
  {
   "cell_type": "code",
   "execution_count": 65,
   "metadata": {
    "colab": {
     "base_uri": "https://localhost:8080/"
    },
    "id": "QNCPYwnMxvPz",
    "outputId": "094bcd04-b7a6-4776-c4d1-f18e014d15b2"
   },
   "outputs": [
    {
     "name": "stderr",
     "output_type": "stream",
     "text": [
      "/usr/local/lib/python3.7/dist-packages/ipykernel_launcher.py:15: RuntimeWarning: divide by zero encountered in log2\n",
      "  from ipykernel import kernelapp as app\n",
      "/usr/local/lib/python3.7/dist-packages/ipykernel_launcher.py:15: RuntimeWarning: invalid value encountered in double_scalars\n",
      "  from ipykernel import kernelapp as app\n",
      "/usr/local/lib/python3.7/dist-packages/numpy/core/fromnumeric.py:3373: RuntimeWarning: Mean of empty slice.\n",
      "  out=out, **kwargs)\n",
      "/usr/local/lib/python3.7/dist-packages/numpy/core/_methods.py:170: RuntimeWarning: invalid value encountered in double_scalars\n",
      "  ret = ret.dtype.type(ret / rcount)\n"
     ]
    }
   ],
   "source": [
    "obj = DesicionTree(X_train, Y_train, bestleafsize, bestdepth)\n",
    "obj.train()\n",
    "pred = obj.predict(X_test)"
   ]
  },
  {
   "cell_type": "code",
   "execution_count": 66,
   "metadata": {
    "colab": {
     "base_uri": "https://localhost:8080/"
    },
    "id": "1h5TI4HsGZn3",
    "outputId": "660a6ff9-2b4e-47fc-e256-9bf9952c3ffa"
   },
   "outputs": [
    {
     "name": "stdout",
     "output_type": "stream",
     "text": [
      "Accuracy on test set useing best hyperparameter = 84.25 %\n"
     ]
    }
   ],
   "source": [
    "print(\"Accuracy on test set useing best hyperparameter = {0:0.2f} %\".format(obj.accuracy(pred, Y_test) ))"
   ]
  },
  {
   "cell_type": "markdown",
   "metadata": {
    "id": "Fy8iQsqZbBaB"
   },
   "source": [
    "2.c : Improve on the best test set performance this classifier has to offer with a better version that uses more complex splitting criteria than single-feature decision stumps"
   ]
  },
  {
   "cell_type": "markdown",
   "metadata": {
    "id": "3YSnlU7tFtLJ"
   },
   "source": [
    "Using KNNR for labeling leaf in place mode. If mean < 0.5 label will be equal to zero otherwise 1."
   ]
  },
  {
   "cell_type": "code",
   "execution_count": 68,
   "metadata": {
    "id": "Cim-ReDPGtAV"
   },
   "outputs": [],
   "source": [
    "class NodeKNN():\n",
    "\n",
    "  #Just same as above calss Only diffrence is that we are using KNN for deciding the value of leaf\n",
    "    \n",
    "    def __init__(self, depth = 0, parent = None, bestFeature = 0, thresold = 0):\n",
    "        self.parent = parent\n",
    "        self.left = None\n",
    "        self.right = None\n",
    "        self.leaf = None\n",
    "        self.bestFeature = bestFeature\n",
    "        self.thresold = thresold\n",
    "        self.label = None\n",
    "        self.depth = depth\n",
    "    \n",
    "    def entropy(self, n , n1):\n",
    "      n0 = n - n1\n",
    "      return -((n1 / n) * np.log2(n1 / n) + (n0 / n)*np.log2(n0 / n))\n",
    "        \n",
    "    def information_gain(self, X, Y):\n",
    "        n = X.shape[0]\n",
    "        curent_entropy = self.entropy(n, sum(Y))\n",
    "        bestIG = -float(\"inf\")\n",
    "        bestcol = 0\n",
    "        bestthresold = 0\n",
    "        for col in range(X.shape[1]):\n",
    "            \n",
    "            if self.parent is not None and col == self.parent.bestFeature:\n",
    "                continue\n",
    "            \n",
    "            x_sorted = np.sort(X[:, col])\n",
    "            idx = np.argsort(X[:, col])\n",
    "            ysorted = Y[idx]\n",
    "            y_cum_for = np.cumsum(ysorted)\n",
    "            y_cum_rev = np.cumsum(ysorted[::-1])[::-1]\n",
    "            for i in range(1, len(x_sorted) - 1):\n",
    "                thresold = x_sorted[i]\n",
    "                info_gain = curent_entropy - ((i + 1) / n) * self.entropy(i + 1, y_cum_for[i]) - ((n - i -1) / n) * self.entropy(n -i -1, y_cum_rev[i+1])\n",
    "                \n",
    "                if info_gain > bestIG:\n",
    "                    bestIG = info_gain\n",
    "                    bestcol = col\n",
    "                    bestthresold = thresold\n",
    "                         \n",
    "        return bestcol, bestthresold\n",
    "\n",
    "    \n",
    "    def fit(self, X, Y, min_sample, max_depth):\n",
    "        \n",
    "        if Y.size < min_sample or self.depth > max_depth:\n",
    "            self.leaf = True\n",
    "\n",
    "\n",
    "\"\"\" \n",
    "This is where we are creating the object for KNNR with datset X, label Y and value of k  = 5\n",
    "\n",
    "\n",
    "\"\"\"\n",
    "\n",
    "            obj = KNNR(X, Y, 5)\n",
    "            self.label = obj\n",
    "            \n",
    "        else:\n",
    "            self.leaf = False\n",
    "            self.bestFeature, self.thresold = self.information_gain(X, Y)\n",
    "            self.left = NodeKNN(depth = self.depth + 1, parent = self)\n",
    "            self.right = NodeKNN(depth = self.depth + 1, parent = self)\n",
    "            \n",
    "            seperator = X[:, self.bestFeature] - self.thresold\n",
    "            self.left.fit(X[seperator <= 0, :], Y[seperator <= 0], min_sample, max_depth)\n",
    "            self.right.fit(X[seperator > 0, :], Y[seperator > 0], min_sample, max_depth)\n",
    "            \n",
    "    \n",
    "    \n",
    "    def predict(self, data):\n",
    "        if self.leaf:\n",
    "\n",
    "          \"\"\"\n",
    "          This is where we are calculation the value of label assigning 0 if mean is less than 0.5 otherwise 1\n",
    "          \"\"\"\n",
    "            x = np.mean(self.label.predict(data))\n",
    "            return 0 if  x < 0.5 else 1\n",
    "        if data[self.bestFeature] > self.thresold:\n",
    "            return self.right.predict(data)\n",
    "        else:\n",
    "            return self.left.predict(data)\n",
    "    \n"
   ]
  },
  {
   "cell_type": "code",
   "execution_count": 67,
   "metadata": {
    "id": "P-z7htabydBV"
   },
   "outputs": [],
   "source": [
    "class TreeKNN():\n",
    "    #Same as above tree class\n",
    "    \n",
    "    def __init__(self,X, Y, min_sample, max_depth):\n",
    "        self.root = NodeKNN()\n",
    "        self.X = np.array(X)\n",
    "        self.Y = np.array(Y)\n",
    "        self.min_sample = min_sample\n",
    "        self.max_depth = max_depth\n",
    "        \n",
    "        \n",
    "    def train(self):\n",
    "        self.root.fit(self.X, self.Y, self.min_sample, self.max_depth)\n",
    "        \n",
    "    def predict(self, X):\n",
    "        y = []\n",
    "        for row in np.array(X):\n",
    "            y.append(self.root.predict(row))\n",
    "        return y\n",
    "    \n",
    "    def accuracy(self, y_test, ypred):\n",
    "        l = []\n",
    "        for i, j in zip(y_test, ypred):\n",
    "            if i == j:\n",
    "                l.append(1)\n",
    "            else:\n",
    "                l.append(0)\n",
    "                \n",
    "        return sum(l) * 100 / len(l)"
   ]
  },
  {
   "cell_type": "code",
   "execution_count": null,
   "metadata": {
    "colab": {
     "base_uri": "https://localhost:8080/"
    },
    "id": "fWWXPwhnyel1",
    "outputId": "bf57f54e-4fd1-49b6-983b-f51d0dd077ee"
   },
   "outputs": [
    {
     "name": "stderr",
     "output_type": "stream",
     "text": [
      "/usr/local/lib/python3.7/dist-packages/ipykernel_launcher.py:15: RuntimeWarning: divide by zero encountered in log2\n",
      "  from ipykernel import kernelapp as app\n",
      "/usr/local/lib/python3.7/dist-packages/ipykernel_launcher.py:15: RuntimeWarning: invalid value encountered in double_scalars\n",
      "  from ipykernel import kernelapp as app\n"
     ]
    },
    {
     "name": "stdout",
     "output_type": "stream",
     "text": [
      "Accuracy =  81.66445623342175\n"
     ]
    }
   ],
   "source": [
    "obj = TreeKNN(X_train, Y_train, bestleafsize, bestdepth)\n",
    "obj.train()\n",
    "pred = obj.predict(X_test)\n",
    "print(\"Accuracy = \", obj.accuracy(pred, Y_test))"
   ]
  },
  {
   "cell_type": "code",
   "execution_count": null,
   "metadata": {
    "colab": {
     "base_uri": "https://localhost:8080/"
    },
    "id": "i768T0_2GEIt",
    "outputId": "f6551d2e-1493-4f52-922e-80a3c0195085"
   },
   "outputs": [
    {
     "name": "stdout",
     "output_type": "stream",
     "text": [
      "Accuracy =  81.66445623342175\n"
     ]
    }
   ],
   "source": [
    "print(\"Accuracy = \", obj.accuracy(pred, Y_test))"
   ]
  },
  {
   "cell_type": "code",
   "execution_count": null,
   "metadata": {
    "id": "_CgX2c0uGFRs"
   },
   "outputs": [],
   "source": []
  }
 ],
 "metadata": {
  "accelerator": "GPU",
  "colab": {
   "collapsed_sections": [
    "ZAHxAoNfmBjn"
   ],
   "name": "21111403.ipynb",
   "provenance": []
  },
  "kernelspec": {
   "display_name": "Python 3 (ipykernel)",
   "language": "python",
   "name": "python3"
  },
  "language_info": {
   "codemirror_mode": {
    "name": "ipython",
    "version": 3
   },
   "file_extension": ".py",
   "mimetype": "text/x-python",
   "name": "python",
   "nbconvert_exporter": "python",
   "pygments_lexer": "ipython3",
   "version": "3.9.12"
  }
 },
 "nbformat": 4,
 "nbformat_minor": 1
}
