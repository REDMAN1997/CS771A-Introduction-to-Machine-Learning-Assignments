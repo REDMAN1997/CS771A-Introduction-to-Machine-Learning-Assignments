{
 "cells": [
  {
   "cell_type": "markdown",
   "metadata": {},
   "source": [
    "# Question 1"
   ]
  },
  {
   "cell_type": "markdown",
   "metadata": {},
   "source": [
    "### Importing Libraries"
   ]
  },
  {
   "cell_type": "code",
   "execution_count": 1,
   "metadata": {},
   "outputs": [],
   "source": [
    "import numpy as np\n",
    "import pandas as pd\n",
    "from matplotlib import pyplot as plt\n",
    "import time"
   ]
  },
  {
   "cell_type": "markdown",
   "metadata": {},
   "source": [
    "### Function gradient_descent:\n",
    "**Arguments** : <br>\n",
    "gradient : First Derivative of optimazation function<br>\n",
    "init_ : Initial value of parameter<br>\n",
    "learn_rate : Learning rate<br>\n",
    "n_iter  : Number of iteration <br>\n",
    "tol : Minimum absolut value of delta<br><br>\n",
    "**Return** : <br>\n",
    "x : Value of parameter for which gradient is zero(Rounding upto 3 decimal places)<br><br>\n",
    "**Functinality**:<br>\n",
    "This function is used to find the value of x for which the gradient is zero or less than absolute value delta.<br>\n",
    "If function doesn't converges in n_iter then retured value may not be optional<br><br>\n",
    "**Algorithm** :<br>\n",
    "1. Initialze the value of x\n",
    "2. for each iteration\n",
    "    1. Calculate the delta as the amount of weight updated\n",
    "    2. If absolute value of delta is less than tol\n",
    "        1. Break\n",
    "    4. Move in the negative direction of gradient i.e., delta\n",
    "7. Return the final value of x\n"
   ]
  },
  {
   "cell_type": "code",
   "execution_count": 2,
   "metadata": {},
   "outputs": [],
   "source": [
    "def gradient_descent(gradient, init_, learn_rate, n_iter = 50, tol = 1e-06):\n",
    "    x = init_                                                                  #Initializing the parameter\n",
    "    for _ in range(n_iter):\n",
    "        delta = - learn_rate * gradient(x)                       #Calculating the update using grdient\n",
    "        if np.all(np.abs(delta) <= tol):\n",
    "            break                                                           #If value ofupdate is less than tol then break\n",
    "        x += delta                                                        #Updating the parameter\n",
    "    return round(x*1000) / 1000"
   ]
  },
  {
   "cell_type": "markdown",
   "metadata": {},
   "source": [
    "### Solution 1.(a).(i)\n",
    "Finding the value of x for which function f(x) is minimum.\n",
    "\\begin{equation}\n",
    "  f(x) = x^{2} + 3x + 4\n",
    "\\end{equation}\n",
    "\n",
    "\\begin{equation}\n",
    "  f'(x) = 2x + 3\n",
    "\\end{equation}"
   ]
  },
  {
   "cell_type": "code",
   "execution_count": 3,
   "metadata": {},
   "outputs": [
    {
     "data": {
      "text/plain": [
       "-1.5"
      ]
     },
     "execution_count": 3,
     "metadata": {},
     "output_type": "execute_result"
    }
   ],
   "source": [
    "gradient_descent(gradient=lambda v: 2 * v + 3, init_= 4.0, learn_rate=0.2)"
   ]
  },
  {
   "cell_type": "markdown",
   "metadata": {},
   "source": [
    "###  Solution 1.(a).(ii)\n",
    "Finding the value of x for which function f(x) is minimum.\n",
    "\\begin{equation}\n",
    "  f(x) = x^{4} - 3x^{2} + 2x\n",
    "\\end{equation}\n",
    "\n",
    "\\begin{equation}\n",
    "  f'(x) = 4x^3 - 6x + 2\n",
    "\\end{equation}"
   ]
  },
  {
   "cell_type": "code",
   "execution_count": 4,
   "metadata": {},
   "outputs": [
    {
     "data": {
      "text/plain": [
       "-1.366"
      ]
     },
     "execution_count": 4,
     "metadata": {},
     "output_type": "execute_result"
    }
   ],
   "source": [
    "gradient_descent(gradient=lambda v: ((4 * (v**3)) - (6 * v) + 2), init_= 4.0, learn_rate=0.02)"
   ]
  },
  {
   "cell_type": "markdown",
   "metadata": {},
   "source": [
    "### Solution 1.(b)"
   ]
  },
  {
   "cell_type": "markdown",
   "metadata": {},
   "source": [
    "### Function linearRegression:\n",
    "**Arguments** : <br>\n",
    "X : Feature Matrix<br>\n",
    "Y : Label Vector<br>\n",
    "init_m : initial value of slope (defaulf : 0)<br>\n",
    "init_c : initial value of intercept (default : 0)<br>\n",
    "learning_rate : Learning Rate<br>\n",
    "n_iter : Number of iteration<br>\n",
    "tol : Minimum absolut value of update<br><br>\n",
    "**Return**:<br>\n",
    "m : Optimal value of slope <br>\n",
    "c : Optimal value of intercept<br><br>\n",
    "\n",
    "**Functionality**:<br>\n",
    "Finding the optimal line which fit the feature X and give the minimum eculdiean loss over label Y.<br>\n",
    "\n",
    "**Algorithm**:<br>\n",
    "1. Initialze m, c\n",
    "2. for each itertion in n_iter\n",
    "    1. Find the predicted label of Y using current m and c\n",
    "    2. Calculate the gradient of m <br> \\begin{equation} grad\\_m = -\\frac{2}{n}\\sum_{i=1}^{n}x (y - \\hat{y})  \\end{equation}<br>\n",
    "    3. calculate the gradient of c \\begin{equation} grad\\_c = -\\frac{2}{n}\\sum_{i=1}^{n} (y - \\hat{y})  \\end{equation} <br><br>\n",
    "    5. If Update in m and c both are less than tol then we are stop further updating and assumes the gradient is converged.<br><br>\n",
    "    6. Move in the negative direction of gradient for m  :  $m = m -  learning\\_rate * grad\\_m$\n",
    "    7. Move in the negative direction of gradient for c    :  $c = c -  learning\\_rate * grad\\_c$ <br><br>\n",
    "3. Return the optimal value of slope and intercept\n"
   ]
  },
  {
   "cell_type": "code",
   "execution_count": 5,
   "metadata": {},
   "outputs": [],
   "source": [
    "def linearRegression(X, Y, init_m = 0, init_c = 0, learning_rate = 0.02, n_iter = 1000, tol = 1e-06):\n",
    "    \n",
    "    m = init_m                                                                                  #Initializing the parameter m (Slope)\n",
    "    c = init_c                                                                                    #Initializing the parameter c (intercept)\n",
    "    n = len(X)                                                                                  #Finding the length of X\n",
    "    \n",
    "    for i in range(n_iter):\n",
    "        \n",
    "        Y_Pred = m * X + c                                                               #Predicting the value of y\n",
    "        \n",
    "        grad_m = -(2 / n) * np.sum(X * (Y - Y_Pred))                       #Calculating the gradient of m\n",
    "        \n",
    "        grad_c = -(2 / n) * np.sum(1 * (Y-Y_Pred))                           #Calculating the gradient of c\n",
    "        \n",
    "        if (abs(learning_rate * grad_m) < tol) and (abs(learning_rate * grad_c) < tol):\n",
    "            break                                                                                                                            #If update of m and c are less than tol --> break\n",
    "        \n",
    "        m = m - learning_rate * grad_m                                          #Updating the value of m\n",
    "        c = c - learning_rate * grad_c                                              #Updating the value of c\n",
    "        \n",
    "    return m, c"
   ]
  },
  {
   "cell_type": "markdown",
   "metadata": {},
   "source": [
    "### Solution 1.(c)"
   ]
  },
  {
   "cell_type": "markdown",
   "metadata": {},
   "source": [
    "Generating artificial dataset for linear regrestion<br>\n",
    "X = Array of 10000 values with mean = 1.5 and standard deviatin = 2.5\n",
    "res = 10000 reidual terms"
   ]
  },
  {
   "cell_type": "code",
   "execution_count": 6,
   "metadata": {},
   "outputs": [],
   "source": [
    "np.random.seed(0)\n",
    "X = 2.5 * np.random.randn(10000) + 1.5\n",
    "res = 1.5 * np.random.randn(10000)\n",
    "y = 2 + 0.3 * X + res"
   ]
  },
  {
   "cell_type": "code",
   "execution_count": 7,
   "metadata": {},
   "outputs": [],
   "source": [
    "a, b = linearRegression(X, y)"
   ]
  },
  {
   "cell_type": "code",
   "execution_count": 8,
   "metadata": {},
   "outputs": [
    {
     "name": "stdout",
     "output_type": "stream",
     "text": [
      "Optimal Value of slope : a = 0.3\n",
      "Optimal Value of intercept : b = 2.02\n"
     ]
    }
   ],
   "source": [
    "print(\"Optimal Value of slope : a = {}\\nOptimal Value of intercept : b = {}\".format(round(a, 2), round(b, 2)))"
   ]
  },
  {
   "cell_type": "markdown",
   "metadata": {},
   "source": [
    "### Solution 1.(d)"
   ]
  },
  {
   "cell_type": "markdown",
   "metadata": {},
   "source": [
    "### Function batchLinearRegression:\n",
    "**Arguments** : <br>\n",
    "X : Feature Matrix<br>\n",
    "Y : Label Vector<br>\n",
    "batch_size : Size of batch that is being used to find the gradient<br>\n",
    "init_m : initial value of slope (defaulf : 0)<br>\n",
    "init_c : initial value of intercept (default : 0)<br>\n",
    "learning_rate : Learning Rate<br>\n",
    "n_iter : Number of iteration<br>\n",
    "tol : Minimum absolut value of update<br><br>\n",
    "**Return**:<br>\n",
    "m : Optimal value of slope <br>\n",
    "c : Optimal value of intercept<br><br>\n",
    "\n",
    "**Functionality**:<br>\n",
    "Finding the optimal line which fit the feature X and give the minimum eculdiean loss over label Y.<br>\n",
    "\n",
    "**Algorithm**:<br>\n",
    "1. Initialze m, c\n",
    "2. for each itertion in n_iter\n",
    "    1. Find the batch of feature (batch_X) and label (batch_Y)without replacement \n",
    "    2. Find the predicted label of batch_Y (batch_Y_Pred) using current m and c\n",
    "    3. Calculate the gradient of m <br> \\begin{equation} grad\\_m = -\\frac{2}{batch\\_size}\\sum_{i=1}^{batch\\_size}x (y - \\hat{y})  \\end{equation}<br>\n",
    "    4. calculate the gradient of c<br> \\begin{equation} grad\\_c = -\\frac{2}{batch\\_size}\\sum_{i=1}^{batch\\_size} (y - \\hat{y})  \\end{equation}<br><br>\n",
    "    5. If Update in m and c both are less than tol then we are stop further updating and assumes the gradient is converged.<br><br>\n",
    "    6. Move in the negative direction of gradient for m  :  $m = m -  learning\\_rate * grad\\_m$\n",
    "    7. Move in the negative direction of gradient for c    :  $c = c -  learning\\_rate * grad\\_c$<br><br>\n",
    "3. Return the optimal value of slope and intercept\n"
   ]
  },
  {
   "cell_type": "code",
   "execution_count": 9,
   "metadata": {},
   "outputs": [],
   "source": [
    "def batchLinearRegression(X, Y, batch_size, init_m = 0, init_c = 0, learning_rate = 0.02, n_iter = 1000, tol = 1e-06):\n",
    "    \n",
    "    m = init_m                                                                                                  #Initializing the parameter m (Slope)\n",
    "    c = init_c                                                                                                     #Initializing the parameter c (intercept)\n",
    "    n = len(X)                                                                                                    #Finding the length of X\n",
    "    index = list(range(n))                                                                                  #Creating the list of index\n",
    "    \n",
    "    for i in range(n_iter):\n",
    "        \n",
    "        rand_idx = np.random.choice(index, batch_size, replace=False)         #Randomly selecting the index for batch of batch_size\n",
    "        \n",
    "        batch_X = np.array([X[i] for i in rand_idx])                                           #Creating the batch_X using random_index\n",
    "        batch_Y = np.array([Y[i] for i in rand_idx])                                           #Creating the batch_Y using random_index\n",
    "\n",
    "        Y_Pred = m * batch_X + c                                                                    #Predicting the value of y\n",
    "        \n",
    "        grad_m = -(2 / batch_size) * np.sum(batch_X * (batch_Y - Y_Pred))    #Calculating the gradient of m\n",
    "        \n",
    "        grad_c = -(2 / batch_size) * np.sum(1 * (batch_Y - Y_Pred))                 #Calculating the gradient of c\n",
    "        \n",
    "        if (abs(learning_rate * grad_m) < tol) and (abs(learning_rate * grad_c) < tol):\n",
    "            break                                                                                                                  #If update of m and c are less than tol --> break\n",
    "        \n",
    "        m = m - learning_rate * grad_m                                                            #Updating the value of m\n",
    "        c = c - learning_rate * grad_c                                                               #Updating the value of c\n",
    "        \n",
    "    return m, c"
   ]
  },
  {
   "cell_type": "code",
   "execution_count": 10,
   "metadata": {},
   "outputs": [
    {
     "name": "stdout",
     "output_type": "stream",
     "text": [
      "Optimal Value of slope : a = 0.36\n",
      "Optimal Value of intercept : b = 2.04\n"
     ]
    }
   ],
   "source": [
    "a, b = batchLinearRegression(X, y, batch_size=1, learning_rate=0.002, n_iter=2000)\n",
    "print(\"Optimal Value of slope : a = {}\\nOptimal Value of intercept : b = {}\".format(round(a, 2), round(b, 2)))"
   ]
  },
  {
   "cell_type": "markdown",
   "metadata": {},
   "source": [
    "#### Calculating the time taken for the execution of Stochastic Gradient Descent"
   ]
  },
  {
   "cell_type": "code",
   "execution_count": 11,
   "metadata": {},
   "outputs": [
    {
     "name": "stdout",
     "output_type": "stream",
     "text": [
      "Total time for execution of SGD : 1.3235 seconds\n"
     ]
    }
   ],
   "source": [
    "tic = time.time()\n",
    "a, b = batchLinearRegression(X, y, 1)\n",
    "toc = time.time()\n",
    "print(\"Total time for execution of SGD : {} seconds\".format(round(toc - tic, 4)))"
   ]
  },
  {
   "cell_type": "markdown",
   "metadata": {},
   "source": [
    "#### Calculating the time taken for the execution of Gradient Descent"
   ]
  },
  {
   "cell_type": "code",
   "execution_count": 12,
   "metadata": {},
   "outputs": [
    {
     "name": "stdout",
     "output_type": "stream",
     "text": [
      "Total time for execution of GD : 2.997 seconds\n"
     ]
    }
   ],
   "source": [
    "tic = time.time()\n",
    "a, b = batchLinearRegression(X, y, len(X))\n",
    "toc = time.time()\n",
    "print(\"Total time for execution of GD : {} seconds\".format(round(toc - tic, 4)))"
   ]
  },
  {
   "cell_type": "markdown",
   "metadata": {},
   "source": [
    "From the above two cell it can be clrealy seen that .**Stochastic Gradient Descent is faster than Gradient Descent**."
   ]
  },
  {
   "cell_type": "markdown",
   "metadata": {},
   "source": [
    "### Finding the optimal batch size\n",
    "\n",
    "Parameter for finding the optimal batch size\n",
    "1. Having minimum mean squared error \n",
    "2. Execution in less time\n",
    "\n",
    "\n",
    "There is trade-off between accuracy and time for finding the optimal batch size.\n",
    "1. On increasing the batch size accuracy increases (because convergence is smoother with large batch).\n",
    "2. On increasing the batch size time complexity also increases (takes longer time to calculate the gradient of large batch)\n",
    "\n",
    "This means if SGD is faster but less accurate and GD is slower but vary accurate. Therefore we need to find out an optimal batch size which take less time GD and give good accuracy.\n",
    "\n",
    "**Note**<br>\n",
    "1.  We are defining the batch size in power of 2 (i.e., 1, 2, 8.....) because it is most efficient size in computer science.\n",
    "2. Record the time taken by each batch for calculating the gradient.\n",
    "3. Record the accuracy for each batch size\n",
    "\n",
    "Formula for calculating the Mean Squared error\n",
    "\\begin{equation} MSE = \\frac{1}{n}\\sum_{i = 1}^{n}(y - \\hat{y})^2 \\end{equation}\n",
    "\n",
    "We are executing the mini batch gradient descent **10** for each batch_size and taking average of for more accurate measurement of error and time taken by each batch size"
   ]
  },
  {
   "cell_type": "code",
   "execution_count": 13,
   "metadata": {},
   "outputs": [],
   "source": [
    "avg_mse = []                                                                   #List for recording the error for each batch\n",
    "avg_time_diff = []                                                                      #List for recording the error for each batch\n",
    "\n",
    "for i in range(14):                                                              #Looping over all batch size in power of 2 (less then len(X))\n",
    "   \n",
    "    mse= []                                                                     #For storing the mse for single batch_size\n",
    "    td = []                                                                        #For storing the time taken for single batch_size\n",
    "   \n",
    "    for k in range(10):                                                             #Looping 10 time over single batch size for more accurate measurement \n",
    "        \n",
    "        tic = time.time()                                                               #Starting the Time\n",
    "        m, c = batchLinearRegression(X, y, np.power(2, i))       #Finding the optimal slope and intercept for batch of batch_size = 2^i\n",
    "        toc = time.time()                                                              #Stoping the time\n",
    "    \n",
    "        ypred = (m * X) + c                                                        #Calculating the y_pred\n",
    "    \n",
    "        mse.append(np.sum((y - ypred) ** 2)/ len(y))               #Calculating the mean square error\n",
    "    \n",
    "        \n",
    "    \n",
    "        td.append(round((toc - tic) * 1000) / 1000)                    #Record the time taken by this batch\n",
    "        \n",
    "    avg_mse.append(np.mean(mse))                                    #appending the mean value of mse error \n",
    "    avg_time_diff.append(np.mean(td))                                 #appending the mean value of time taken"
   ]
  },
  {
   "cell_type": "markdown",
   "metadata": {},
   "source": [
    "Normalizing the rmse_error and time_diff using min-max scaler so that both come in same range and we can then plot it to find the optimal batch size<br>\n",
    "**Min-Max Scalar**\n",
    "\\begin{equation} x[i] = \\frac{x[i] - X_{min}}{X_{max} - X_{min}} \\end{equation}\n",
    "\n",
    "This will bring all the values between 0 and 1."
   ]
  },
  {
   "cell_type": "code",
   "execution_count": 14,
   "metadata": {},
   "outputs": [],
   "source": [
    "rmse = np.array(avg_mse)\n",
    "rmse = (rmse - min(rmse)) / (max(rmse) - min(rmse))"
   ]
  },
  {
   "cell_type": "code",
   "execution_count": 15,
   "metadata": {},
   "outputs": [],
   "source": [
    "timetaken = np.array(avg_time_diff)\n",
    "timetaken = (timetaken - min(timetaken)) / (max(timetaken) - min(timetaken))"
   ]
  },
  {
   "cell_type": "markdown",
   "metadata": {},
   "source": [
    "Ploting the graph of normalized rmse _error and time_diff"
   ]
  },
  {
   "cell_type": "code",
   "execution_count": 16,
   "metadata": {},
   "outputs": [
    {
     "data": {
      "image/png": "[encoded data removed]",
      "text/plain": [
       "<Figure size 432x288 with 1 Axes>"
      ]
     },
     "metadata": {
      "needs_background": "light"
     },
     "output_type": "display_data"
    }
   ],
   "source": [
    "plt.plot(list(range(14)), rmse)\n",
    "plt.plot(list(range(14)), timetaken)\n",
    "plt.xlabel(\"Log2(Batch Size)\")\n",
    "plt.ylabel(\"Normalized value of Error and Time taken\")\n",
    "plt.legend([\"rmse\", \"Time\"])\n",
    "plt.title(\"Trade-Off between Accuracy and Time\")\n",
    "plt.show()"
   ]
  },
  {
   "cell_type": "markdown",
   "metadata": {},
   "source": [
    "### Conclusion from the above graph\n",
    "1. Batch_size = 8192  :  give best accuracy but take longer time\n",
    "2. Batch_size = 1 or 2 or 4   :   give less accuracy but are fast\n",
    "\n",
    "From the graph we can say that **batch of size 32** will be optimal.\n",
    "\n",
    "#### But optimal batch size is an hyper parameter it varies according the problem defination other paramerter\n",
    "means it may be 32 this time but changes next time. After executing multiple time optimal batch size come from this set **{32, 64, 128}**."
   ]
  },
  {
   "cell_type": "markdown",
   "metadata": {},
   "source": [
    "# Question 2"
   ]
  },
  {
   "cell_type": "markdown",
   "metadata": {},
   "source": [
    "Lets use short abbreviation for each event in the Bayesian Network for ease of readability \n",
    "1. S : Smokes\n",
    "2. LD : Lung Disease\n",
    "3. C : Cold\n",
    "4. Co :Cough\n",
    "5. F : Fever\n",
    "6. SB : Shortness of breath\n",
    "7. CP : Chest Pain\n",
    "\n",
    "### Solution 2.(i). The probability that someone has both cold and a fever\n",
    "\n",
    "In the Bayesian Network Fever is dependent on Cold. So, the probability that someone has both fever and cold can be calculated as \n",
    "\n",
    "\\begin{equation}P(C,F) = P(F |C)\\;P(C) \\end{equation}\n",
    "\n",
    "\\begin{equation} = 0.307 * 0.02 \\end{equation}\n",
    "\n",
    "\\begin{equation}= 0.00614 \\end{equation}\n",
    "\n",
    "### Solution 2.(ii). The probability that someone who has a cough has a cold\n",
    "\n",
    "\n",
    "The probability of having cold given that he(she) has Cough can be calculated as follows: \n",
    "\n",
    "\\begin{equation}P(C\\;|\\;Co) = \\frac{P(C, Co)}{P(Co)} ..........(1)\\end{equation}\n",
    "\n",
    "To calculated above probability we need to find $P(Co, C)$ and $P(Co)$. <br><br>\n",
    "\n",
    "\n",
    "From the Bayesian Network there is dependency of Lung Disease on Cough. So we need to first find out the $P(LD)$ and $P(\\overline{LD})$\n",
    "\n",
    "Since Lung Disease is dependent over Smokes, probability of having Lung Disease wil be:\n",
    "\n",
    "\\begin{equation} P(LD) = P(LD|S)P(S) + P(LD|\\overline {S})P(\\overline{S}) \\end{equation}\n",
    "\n",
    "\\begin{equation}P(LD) = 0.1009*0.2+0.001*0.8 = 0.02098 \\end{equation}\n",
    "\n",
    "and probability of not having Lung Disease will be $P(\\overline{LD}) = 1 - P(LD) = 0.97902$<br><br>\n",
    "\n",
    "\n",
    "\n",
    "Now, lets calculated probability that someone has both Cold and Cough i.e.,$P(Co,C)$\n",
    "\n",
    "\\begin{equation}  P(Co, C) = P(Co, C, LD) + P(Co, C, \\overline{LD} ) \\end{equation}\n",
    "\n",
    "From the Bayesian Network Cold and Lung Disease are not dependent then, \n",
    "\n",
    "\\begin{equation} P(Co, C) = P(Co|C, LD)P(C)P(LD) + P(Co|C, \\overline{LD})P(C)P(\\overline{LD}) \\end{equation}\n",
    "\n",
    "\\begin{equation}P(Co, C) = 0.7525*0.02*0.02098 + 0.505*0.02*0.97902\\end{equation}\n",
    "\n",
    "\\begin{equation} P(Co, C) = 0.010203851 ..........(2)\\end{equation}<br><br>\n",
    "\n",
    "\n",
    "\n",
    "Now calculate the probability of Denominator i.e., $P(Co)$\n",
    "\n",
    "\\begin{equation}P(Co) = P(Co, LD, C) + P(Co, LD, \\overline{C}) + P(Co, \\overline{LD}, C) + P(Co, \\overline{LD}, \\overline{C}) \\end{equation}\n",
    "\n",
    "\\begin{equation}P(Co) =  P(Co|LD, C)\\,P(LD)\\,P(C) + P(Co|LD, \\overline{C})\\,P(LD)\\,P(\\overline{C}) + P(Co|\\overline{LD},C)\\,P( \\overline{LD})\\,P(C) + P(Co|\\overline{LD},\\overline{C})\\,P(\\overline{LD})\\,P(\\overline{C})\\end{equation}\n",
    "\n",
    "\\begin{equation}P(Co) = 0.7525*0.02098*0.02 +  0.505*0.02098*0.98 +  0.505*0.97902*0.02 + 0.01*0.97902*0.98\\end{equation}\n",
    "\n",
    "\\begin{equation}P(Co) =0.000315749 + 0.010383002 +  0.009888102 + 0.009594396\\end{equation}\n",
    "\n",
    "\\begin{equation} P(Co) = 0.030181249 ..........(3)\\end{equation}<br><br>\n",
    "\n",
    "Now, putting values from equation (2) and (3) in equation (1) we get,  \n",
    "\n",
    "\\begin{equation}P(C\\;|\\;Co) = \\frac{P(C\\;and\\;Co)}{P(Co)} \\end{equation}\n",
    "\n",
    "\\begin{equation} = \\frac{0.010203851}{0.030181249}\\end{equation}\n",
    "\n",
    "\\begin{equation} = 0.338085776\\end{equation}"
   ]
  },
  {
   "cell_type": "markdown",
   "metadata": {},
   "source": [
    "# Question 3"
   ]
  },
  {
   "cell_type": "markdown",
   "metadata": {},
   "source": [
    "### Solution 3.\n",
    "Let $X$ be a RV following multinomial distribution,<br> \n",
    "$K$ be the total  number of possible outcomes<br>\n",
    "$x_i$ be number of success of the $i^{th}$ outcomes in $n$ random trials<br>\n",
    "$p_i$ be the probability of success of the $i^{th}$ outcomes. Then, \n",
    "\n",
    "\\begin{equation} P(X = x|n, p) =  {n \\choose {x_1, x_2 ... x_K}}\\prod_{i=1}^Kp_i^{x_i} = n!\\prod_{i = 1}^K\\frac{p_i^{x_i}}{x_i!}\\end{equation}\n",
    "\n",
    "where, \n",
    "\n",
    "\\begin{equation} \\sum_{i=1}^Kx_i = n \\end{equation}and \\begin{equation}  \\sum_{i = 1}^Kp_i = 1\\end{equation}\n",
    "\n",
    "The log likelihood of multinomial distribution is given as, \n",
    "\n",
    "\\begin{equation} \\mathcal{LL}(p) = \\log\\left({{n \\choose {x_1, x_2 ... x_k}}\\prod_{i = 1}^Kp_i^{x_i}}\\right) \\end{equation}\n",
    "\n",
    "\\begin{equation}  = \\log{n \\choose{x_1, x_2...x_K}}  + \\log\\prod_{i = 1}^{K}p_i^{x_i}\\end{equation}\n",
    "\n",
    "\n",
    "\\begin{equation} = \\log{n \\choose{x_1, x_2...x_K}} + \\sum_{i = 1}^{k} \\log{p_i^{x_i}} \\end{equation}\n",
    "\n",
    "\\begin{equation} = \\log{n \\choose{x_1, x_2...x_K}} + \\sum_{i = 1}^{k}x_i\\log{p_i} \\end{equation}\n",
    "\n",
    "Since the above log likelihood function has a constrained $\\sum_{i = 1}^{K}p_i = 1$, we have to introduce constrained with a Lagrange multiplier $\\lambda$ into the equation.\n",
    "\n",
    "\\begin{equation}  \\mathcal{LL}(p, \\lambda) = \\mathcal{LL}(p) + \\lambda\\left( 1 - \\sum_{i=1}^Kp_i \\right)\\end{equation}\n",
    "\n",
    "\\begin{equation}  \\mathcal{LL}(p, \\lambda) = \\log{n \\choose{x_1, x_2...x_K}} + \\sum_{i = 1}^Kx_ilog{p_i} + \\lambda\\left( 1 - \\sum_{i=1}^Kp_i \\right)\\end{equation}\n",
    "\n",
    "$\\mathcal{LL}(p. \\lambda)$ is also called as Lagrangian.\n",
    "\n",
    "To find the $argmax_p \\mathcal{LL}(p, \\lambda)$ we have to differrentiate the Lagrangian function with respect to $p_i$ and $\\lambda$ and setting it $0$. \n",
    "\n",
    "\\begin{equation} \\frac{\\partial{}}{\\partial{p_i}} \\mathcal{LL}(p, \\lambda) = 0\\>\\> and \\>\\>\\frac{\\partial{}}{\\partial{\\lambda}} \\mathcal{LL}(p, \\lambda) = 0 \\end{equation}\n",
    "\n",
    "First differentiating it wrt  $\\lambda$ and setting it to $0$\n",
    "\n",
    "\\begin{equation} \\frac{\\partial{}}{\\partial{\\lambda}} \\mathcal{LL}(p, \\lambda)  = 0\\end{equation}\n",
    "\n",
    "\\begin{equation}  1 - \\sum_{i = 1}^Kp_i  = 0\\end{equation}\n",
    "\n",
    "\\begin{equation} \\sum_{i = 1}^{K}p_i = 1\\end{equation}\n",
    "\n",
    "Now differentiating it wrt  $p_i$ and setting it to $0$\n",
    "\n",
    "\\begin{equation} \\frac{\\partial{}}{\\partial{p_i}} \\mathcal{LL}(p, \\lambda)   = 0\\end{equation}\n",
    "\n",
    "\\begin{equation} \\frac{x_i}{p_i} + \\lambda(-1)  = 0\\end{equation}\n",
    "\n",
    "\n",
    "\\begin{equation} x_i = \\lambda p_i  \\end{equation}\n",
    "\n",
    "\\begin{equation}p_i = \\frac{x_i}{\\lambda} ....(1)\\end{equation}\n",
    "\n",
    "Summning over all i\n",
    "\n",
    "\\begin{equation} \\sum_{i = 1}^{K}x_i = \\sum_{i = 1}^K\\lambda p_i \\end{equation}\n",
    "\n",
    "\\begin{equation} n = \\lambda ....(2)\\end{equation}\n",
    "\n",
    "Putting the value of $\\lambda$ from equation (2) to equation (1) we get, \n",
    "\n",
    "\\begin{equation} p_i = \\frac{x_i}{n} \\end{equation}\n",
    "\n",
    "Now, the probability distribution after MLE\n",
    "\n",
    "\\begin{equation} P\\left(\\frac{x_1}{n}, \\frac{x_2}{n}.....\\frac{x_K}{n}\\right) \\end{equation}"
   ]
  }
 ],
 "metadata": {
  "kernelspec": {
   "display_name": "Python 3 (ipykernel)",
   "language": "python",
   "name": "python3"
  },
  "language_info": {
   "codemirror_mode": {
    "name": "ipython",
    "version": 3
   },
   "file_extension": ".py",
   "mimetype": "text/x-python",
   "name": "python",
   "nbconvert_exporter": "python",
   "pygments_lexer": "ipython3",
   "version": "3.9.12"
  }
 },
 "nbformat": 4,
 "nbformat_minor": 2
}
